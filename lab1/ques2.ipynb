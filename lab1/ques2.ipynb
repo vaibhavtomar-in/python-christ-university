{
 "cells": [
  {
   "cell_type": "markdown",
   "metadata": {},
   "source": [
    "(2) Let A=[‘abc’, ‘xyz’, ‘aba’, 1221’] be a given string, and write a Python\n",
    "program that prints the string or strings and their index from the given list,\n",
    "ensuring that the first and last characters of the strings to be printed are\n",
    "identical."
   ]
  },
  {
   "cell_type": "code",
   "execution_count": 1,
   "metadata": {},
   "outputs": [],
   "source": [
    "A=[\"abc\", \"xyz\", \"aba\", \"1221\"]"
   ]
  },
  {
   "cell_type": "code",
   "execution_count": 2,
   "metadata": {},
   "outputs": [],
   "source": [
    "def printIndex(listin):\n",
    "    for i in listin:\n",
    "        print(\"element \", i ,\" is at index \", listin.index(i))"
   ]
  },
  {
   "cell_type": "code",
   "execution_count": 3,
   "metadata": {},
   "outputs": [
    {
     "name": "stdout",
     "output_type": "stream",
     "text": [
      "element  abc  is at index  0\n",
      "element  xyz  is at index  1\n",
      "element  aba  is at index  2\n",
      "element  1221  is at index  3\n"
     ]
    }
   ],
   "source": [
    "printIndex(A)"
   ]
  }
 ],
 "metadata": {
  "kernelspec": {
   "display_name": "Python 3",
   "language": "python",
   "name": "python3"
  },
  "language_info": {
   "codemirror_mode": {
    "name": "ipython",
    "version": 3
   },
   "file_extension": ".py",
   "mimetype": "text/x-python",
   "name": "python",
   "nbconvert_exporter": "python",
   "pygments_lexer": "ipython3",
   "version": "3.11.2"
  }
 },
 "nbformat": 4,
 "nbformat_minor": 2
}
