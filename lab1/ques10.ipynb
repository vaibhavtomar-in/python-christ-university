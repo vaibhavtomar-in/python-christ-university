{
 "cells": [
  {
   "cell_type": "code",
   "execution_count": 1,
   "metadata": {},
   "outputs": [],
   "source": [
    "def giveDays(month):\n",
    "    months = [\"January\", \"February\", \"March\", \"April\", \"May\", \"June\", \"July\", \"August\", \"September\", \"October\", \"November\", \"December\"]\n",
    "    days31=[0,2,4,6,7,9,11]\n",
    "    days30=[3,5,8,10]\n",
    "    for i in months:\n",
    "        if (month.lower() == i.lower()):\n",
    "            index = months.index(i)\n",
    "            if (index in days31):\n",
    "                return 31\n",
    "            elif (index in days30):\n",
    "                return 30\n",
    "            else:\n",
    "                year = int(input(\"enter the year : \"))\n",
    "                if(year%4==0):\n",
    "                    return 29\n",
    "                else:\n",
    "                    return 28\n",
    "    return \"bad input\"\n",
    "                \n",
    "\n",
    "        "
   ]
  },
  {
   "cell_type": "code",
   "execution_count": 2,
   "metadata": {},
   "outputs": [
    {
     "data": {
      "text/plain": [
       "28"
      ]
     },
     "execution_count": 2,
     "metadata": {},
     "output_type": "execute_result"
    }
   ],
   "source": [
    "giveDays(\"febrUary\")"
   ]
  }
 ],
 "metadata": {
  "kernelspec": {
   "display_name": "Python 3",
   "language": "python",
   "name": "python3"
  },
  "language_info": {
   "codemirror_mode": {
    "name": "ipython",
    "version": 3
   },
   "file_extension": ".py",
   "mimetype": "text/x-python",
   "name": "python",
   "nbconvert_exporter": "python",
   "pygments_lexer": "ipython3",
   "version": "3.11.2"
  }
 },
 "nbformat": 4,
 "nbformat_minor": 2
}
