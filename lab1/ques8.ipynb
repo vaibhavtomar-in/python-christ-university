{
 "cells": [
  {
   "cell_type": "code",
   "execution_count": 3,
   "metadata": {},
   "outputs": [],
   "source": [
    "people = [{\"name\":\"John Doe\", \"age\": 30, \"blood_group\" : \"A+\"}, {\"name\": \"Jane Smith\", \"age\": 25, \"blood_group\":\"B-\"}, {\"name\":\"Emily Davis\", \"age\": 40, \"blood_group\" : \"0+\"}, {\"name\": \"Michael Brown\", \"age\": 35, \"blood_group\": \"AB-\"}, {\"name\": \"William Johnson\", \"age\": 28, \"blood_group\": \"A-\"}, {\"name\": \"Emma Wilson\", \"age\": 22, \"blood_group\": \"B+\"}, {\"name\": \"Oliver Martinez\", \"age\": 33, \"blood_group\": \"0-\"}, {\"name\": \"Sophia Anderson\", \"age\": 27, \"blood_group\": \"AB+\"}, {\"name\": \"James Thomas\", \"age\": 45, \"blood_group\" : \"A+\"}, {\"name\": \"Isabella Lee\", \"age\": 38, \"blood_group\":\"B-\"}]"
   ]
  },
  {
   "cell_type": "code",
   "execution_count": 18,
   "metadata": {},
   "outputs": [
    {
     "name": "stdout",
     "output_type": "stream",
     "text": [
      "name  :  John Doe\n",
      "age  :  30\n",
      "blood_group  :  A+\n",
      "--------------------\n",
      "name  :  Jane Smith\n",
      "age  :  25\n",
      "blood_group  :  B-\n",
      "--------------------\n",
      "name  :  Emily Davis\n",
      "age  :  40\n",
      "blood_group  :  0+\n",
      "--------------------\n",
      "name  :  Michael Brown\n",
      "age  :  35\n",
      "blood_group  :  AB-\n",
      "--------------------\n",
      "name  :  William Johnson\n",
      "age  :  28\n",
      "blood_group  :  A-\n",
      "--------------------\n",
      "name  :  Emma Wilson\n",
      "age  :  22\n",
      "blood_group  :  B+\n",
      "--------------------\n",
      "name  :  Oliver Martinez\n",
      "age  :  33\n",
      "blood_group  :  0-\n",
      "--------------------\n",
      "name  :  Sophia Anderson\n",
      "age  :  27\n",
      "blood_group  :  AB+\n",
      "--------------------\n",
      "name  :  James Thomas\n",
      "age  :  45\n",
      "blood_group  :  A+\n",
      "--------------------\n",
      "name  :  Isabella Lee\n",
      "age  :  38\n",
      "blood_group  :  B-\n",
      "--------------------\n"
     ]
    }
   ],
   "source": [
    "for i in people:\n",
    "    keysofi = list(i.keys())\n",
    "    for j in keysofi:\n",
    "        print(j, \" : \", i[j])\n",
    "    print(\"-\"*20)"
   ]
  }
 ],
 "metadata": {
  "kernelspec": {
   "display_name": "Python 3",
   "language": "python",
   "name": "python3"
  },
  "language_info": {
   "codemirror_mode": {
    "name": "ipython",
    "version": 3
   },
   "file_extension": ".py",
   "mimetype": "text/x-python",
   "name": "python",
   "nbconvert_exporter": "python",
   "pygments_lexer": "ipython3",
   "version": "3.11.2"
  }
 },
 "nbformat": 4,
 "nbformat_minor": 2
}
