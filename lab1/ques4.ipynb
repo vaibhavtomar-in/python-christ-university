{
 "cells": [
  {
   "cell_type": "markdown",
   "metadata": {},
   "source": [
    "Write a Python program to convert the given list to a list of dictionaries.\n",
    "ListColour= [\"Black\", \"Red\", \"Maroon\", \"Yellow\"], [\"000000\", \"FF0000\",\n",
    "\"800000\", \"FFFF00\"]\n",
    "\n",
    "Expected Output: {’colorName’: ’Black’, ’colorCode’: ’000000’}, {’color-\n",
    "Name’: ’Red’, ’colorCode’: ’FF0000’}, ’colorName’: ’Maroon’, ’colorCode’:’800000’}, {’colorName’: ’Yellow’, ’colorCode’: ’FFFF00’}"
   ]
  },
  {
   "cell_type": "code",
   "execution_count": 1,
   "metadata": {},
   "outputs": [
    {
     "name": "stdout",
     "output_type": "stream",
     "text": [
      "[{'colorName': 'Black', 'colorCode': '000000'}, {'colorName': 'Red', 'colorCode': 'FF0000'}, {'colorName': 'Maroon', 'colorCode': '800000'}, {'colorName': 'Yellow', 'colorCode': 'FFFF00'}]\n"
     ]
    }
   ],
   "source": [
    "ListColour = [[\"Black\", \"Red\", \"Maroon\", \"Yellow\"], [\"000000\", \"FF0000\", \"800000\", \"FFFF00\"]]\n",
    "output = [{\"colorName\": ListColour[0][i], \"colorCode\": ListColour[1][i]} for i in range(len(ListColour[0]))]\n",
    "print(output)\n"
   ]
  }
 ],
 "metadata": {
  "kernelspec": {
   "display_name": "Python 3",
   "language": "python",
   "name": "python3"
  },
  "language_info": {
   "codemirror_mode": {
    "name": "ipython",
    "version": 3
   },
   "file_extension": ".py",
   "mimetype": "text/x-python",
   "name": "python",
   "nbconvert_exporter": "python",
   "pygments_lexer": "ipython3",
   "version": "3.11.2"
  }
 },
 "nbformat": 4,
 "nbformat_minor": 2
}
