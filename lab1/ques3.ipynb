{
 "cells": [
  {
   "cell_type": "code",
   "execution_count": 27,
   "metadata": {},
   "outputs": [
    {
     "name": "stdout",
     "output_type": "stream",
     "text": [
      "* \n",
      "* * \n",
      "* * * \n",
      "* * * * \n",
      "* * * * * \n"
     ]
    }
   ],
   "source": [
    "num = int(input(\"enter number of lines wanted : \"))\n",
    "for i in range(1,num+1):\n",
    "    print(\"* \"*i)"
   ]
  },
  {
   "cell_type": "code",
   "execution_count": 28,
   "metadata": {},
   "outputs": [
    {
     "name": "stdout",
     "output_type": "stream",
     "text": [
      "    A  \n",
      "   A  B  \n",
      "  A  B  C  \n",
      " A  B  C  D  \n",
      "A  B  C  D  E  \n"
     ]
    }
   ],
   "source": [
    "import math\n",
    "num = int(input(\"enter number of lines wanted : \"))\n",
    "space = num-1\n",
    "for i in range(65,num+65):\n",
    "    print(\" \"*space, end = \"\")\n",
    "    for j in range (65,i+1):\n",
    "        print(chr(j),\" \", end = \"\")\n",
    "    \n",
    "    print()\n",
    "    space-=1\n"
   ]
  }
 ],
 "metadata": {
  "kernelspec": {
   "display_name": "Python 3",
   "language": "python",
   "name": "python3"
  },
  "language_info": {
   "codemirror_mode": {
    "name": "ipython",
    "version": 3
   },
   "file_extension": ".py",
   "mimetype": "text/x-python",
   "name": "python",
   "nbconvert_exporter": "python",
   "pygments_lexer": "ipython3",
   "version": "3.11.2"
  }
 },
 "nbformat": 4,
 "nbformat_minor": 2
}
