{
 "cells": [
  {
   "attachments": {
    "image.png": {
     "image/png": "[encoded data removed]"
    }
   },
   "cell_type": "markdown",
   "metadata": {},
   "source": [
    "(7) Write a program to find the area of a triangle. Then find the area of two\n",
    "arbitrary triangles by entering the three sides both using the input function\n",
    "(input()). Print the total area enclosed by both triangles and each triangle’s\n",
    "contribution (%) towards it.\n",
    "\n",
    "Hint: area of a triangle:\n",
    "\n",
    "![image.png](attachment:image.png)"
   ]
  },
  {
   "cell_type": "code",
   "execution_count": 9,
   "metadata": {},
   "outputs": [],
   "source": [
    "def area(side1,side2,side3):\n",
    "    s = (side1+side2+side3)/2\n",
    "    area = (s*(s-side1)*(s-side2)*(s-side3))**0.5\n",
    "    return area"
   ]
  },
  {
   "cell_type": "code",
   "execution_count": 18,
   "metadata": {},
   "outputs": [],
   "source": [
    "def getTraingle():\n",
    "    sideA=int(input(\"enter length in cm of side A : \"))\n",
    "    sideB=int(input(\"enter length in cm of side B : \"))\n",
    "    sideC=int(input(\"enter length in cm of side C : \"))\n",
    "    if ((sideA+sideB>=sideC)and(sideC+sideB>=sideA)and(sideC+sideA>=sideB)):\n",
    "        return area(sideA,sideB,sideC)\n",
    "    else:\n",
    "        return(\"wrong value enterred\")\n"
   ]
  },
  {
   "cell_type": "code",
   "execution_count": 19,
   "metadata": {},
   "outputs": [
    {
     "name": "stdout",
     "output_type": "stream",
     "text": [
      "total area of triangle :  2.958039891549808\n",
      "contribution of triangle 1 is  50.0 %\n",
      "contribution of triangle 2 is  50.0 %\n"
     ]
    }
   ],
   "source": [
    "triangle1Area = getTraingle()\n",
    "triangle2Area = getTraingle()\n",
    "totalArea = triangle1Area+triangle2Area\n",
    "print(\"total area of triangle : \", totalArea)\n",
    "print(\"contribution of triangle 1 is \", (triangle1Area/totalArea)*100, \"%\")\n",
    "print(\"contribution of triangle 2 is \", (triangle2Area/totalArea)*100, \"%\")"
   ]
  }
 ],
 "metadata": {
  "kernelspec": {
   "display_name": "Python 3",
   "language": "python",
   "name": "python3"
  },
  "language_info": {
   "codemirror_mode": {
    "name": "ipython",
    "version": 3
   },
   "file_extension": ".py",
   "mimetype": "text/x-python",
   "name": "python",
   "nbconvert_exporter": "python",
   "pygments_lexer": "ipython3",
   "version": "3.11.2"
  }
 },
 "nbformat": 4,
 "nbformat_minor": 2
}
