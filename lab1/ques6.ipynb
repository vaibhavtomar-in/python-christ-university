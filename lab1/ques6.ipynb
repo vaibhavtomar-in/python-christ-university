{
 "cells": [
  {
   "cell_type": "markdown",
   "metadata": {},
   "source": [
    "(6) Write a Python program to read a four-digit number and find its\n",
    "\n",
    "(a) Sum of digits\n",
    "\n",
    "(b) Reverse"
   ]
  },
  {
   "cell_type": "code",
   "execution_count": 2,
   "metadata": {},
   "outputs": [],
   "source": [
    "def sumOfdigits(num):\n",
    "    copy = num\n",
    "    sum = 0\n",
    "    while (copy>0):\n",
    "        sum += copy%10\n",
    "        copy = copy//10\n",
    "    return sum\n"
   ]
  },
  {
   "cell_type": "code",
   "execution_count": 7,
   "metadata": {},
   "outputs": [],
   "source": [
    "def reverseNum(num):\n",
    "    temp = str(num)\n",
    "    temp = temp[::-1]\n",
    "    return int(temp)"
   ]
  },
  {
   "cell_type": "code",
   "execution_count": 8,
   "metadata": {},
   "outputs": [
    {
     "name": "stdout",
     "output_type": "stream",
     "text": [
      "sum of digits is  10\n",
      "reverse of the number is  4321\n"
     ]
    }
   ],
   "source": [
    "number = int(input(\"enter a 4 digit number\"))\n",
    "if (number>=1000 or number <=9999):\n",
    "    sum = sumOfdigits(number)\n",
    "    reversednum = reverseNum(number)\n",
    "    print(\"sum of digits is \", sum)\n",
    "    print(\"reverse of the number is \", reversednum)\n",
    "else:\n",
    "    print(\"not a 4 digit number\")"
   ]
  }
 ],
 "metadata": {
  "kernelspec": {
   "display_name": "Python 3",
   "language": "python",
   "name": "python3"
  },
  "language_info": {
   "codemirror_mode": {
    "name": "ipython",
    "version": 3
   },
   "file_extension": ".py",
   "mimetype": "text/x-python",
   "name": "python",
   "nbconvert_exporter": "python",
   "pygments_lexer": "ipython3",
   "version": "3.11.2"
  }
 },
 "nbformat": 4,
 "nbformat_minor": 2
}
