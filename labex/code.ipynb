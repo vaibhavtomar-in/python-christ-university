{
 "cells": [
  {
   "cell_type": "markdown",
   "metadata": {},
   "source": [
    "(a) Create a structured array"
   ]
  },
  {
   "cell_type": "code",
   "execution_count": 2,
   "metadata": {},
   "outputs": [],
   "source": [
    "import numpy as np\n",
    "\n",
    "\n",
    "employee_dtype = np.dtype([\n",
    "    ('EmployeeID', 'i4'),\n",
    "    ('Department', 'U15'),\n",
    "    ('YearsOfExperience', 'f4'),\n",
    "    ('ProjectsCompleted', 'i4'),\n",
    "    ('ClientSatisfactionRating', 'f4')\n",
    "])\n",
    "\n",
    "# Populate the data with reasonable values for 20 employees\n",
    "employee_data = np.array([\n",
    "    (101, 'Engineering', 5.5, 12, 4.5),\n",
    "    (102, 'HR', 3.2, 8, 3.9),\n",
    "    (103, 'Marketing', 2.1, 9, 4.8),\n",
    "    (104, 'Engineering', 7.6, 14, 4.3),\n",
    "    (105, 'HR', 1.9, 6, 4.1),\n",
    "    (106, 'Marketing', 5.2, 10, 4.9),\n",
    "    (107, 'Engineering', 6.0, 15, 3.8),\n",
    "    (108, 'Marketing', 3.5, 11, 4.6),\n",
    "    (109, 'HR', 9.8, 17, 4.7),\n",
    "    (110, 'Engineering', 2.3, 8, 4.2),\n",
    "    (111, 'Marketing', 6.7, 13, 4.4),\n",
    "    (112, 'HR', 4.6, 10, 3.7),\n",
    "    (113, 'Engineering', 8.9, 16, 4.0),\n",
    "    (114, 'Marketing', 3.0, 7, 4.1),\n",
    "    (115, 'HR', 2.8, 9, 4.3),\n",
    "    (116, 'Marketing', 7.4, 12, 4.9),\n",
    "    (117, 'Engineering', 4.2, 11, 3.9),\n",
    "    (118, 'HR', 5.5, 14, 4.6),\n",
    "    (119, 'Marketing', 6.2, 13, 4.4),\n",
    "    (120, 'Engineering', 3.1, 7, 3.5)\n",
    "], dtype=employee_dtype)\n"
   ]
  },
  {
   "cell_type": "markdown",
   "metadata": {},
   "source": [
    "(b) Function to filter employees by department"
   ]
  },
  {
   "cell_type": "code",
   "execution_count": 3,
   "metadata": {},
   "outputs": [
    {
     "name": "stdout",
     "output_type": "stream",
     "text": [
      "Employees in department: HR\n",
      "(102, 'HR', 3.2, 8, 3.9)\n",
      "(105, 'HR', 1.9, 6, 4.1)\n",
      "(109, 'HR', 9.8, 17, 4.7)\n",
      "(112, 'HR', 4.6, 10, 3.7)\n",
      "(115, 'HR', 2.8, 9, 4.3)\n",
      "(118, 'HR', 5.5, 14, 4.6)\n"
     ]
    }
   ],
   "source": [
    "def filter_by_department(data, department_name):\n",
    "    filtered_data = data[data['Department'] == department_name]\n",
    "    print(\"Employees in department:\", department_name)\n",
    "    for employee in filtered_data:\n",
    "        print(employee)\n",
    "\n",
    "filter_by_department(employee_data, 'HR')"
   ]
  },
  {
   "cell_type": "markdown",
   "metadata": {},
   "source": [
    "(c) Identify employee with the highest Client Satisfaction Rating"
   ]
  },
  {
   "cell_type": "code",
   "execution_count": 4,
   "metadata": {},
   "outputs": [
    {
     "name": "stdout",
     "output_type": "stream",
     "text": [
      "Employee with highest client satisfaction rating is: (106, 'Marketing', 5.2, 10, 4.9)\n"
     ]
    }
   ],
   "source": [
    "def highest_satisfaction(data):\n",
    "    max_satisfaction_index = np.argmax(data['ClientSatisfactionRating'])\n",
    "    print(\"Employee with highest client satisfaction rating is:\",\n",
    "          data[max_satisfaction_index])\n",
    "\n",
    "highest_satisfaction(employee_data)"
   ]
  },
  {
   "cell_type": "markdown",
   "metadata": {},
   "source": [
    "(d) Calculate average projects completed and years of experience"
   ]
  },
  {
   "cell_type": "code",
   "execution_count": 5,
   "metadata": {},
   "outputs": [
    {
     "name": "stdout",
     "output_type": "stream",
     "text": [
      "Average number of projects completed: 11.1\n",
      "Average years of experience: 4.9749994\n"
     ]
    }
   ],
   "source": [
    "def calculate_averages(data):\n",
    "    avg_projects = np.mean(data['ProjectsCompleted'])\n",
    "    avg_experience = np.mean(data['YearsOfExperience'])\n",
    "    print(\"Average number of projects completed:\", avg_projects)\n",
    "    print(\"Average years of experience:\", avg_experience)\n",
    "\n",
    "calculate_averages(employee_data)"
   ]
  },
  {
   "cell_type": "markdown",
   "metadata": {},
   "source": [
    "(e) Employees with less than 2 years of experience"
   ]
  },
  {
   "cell_type": "code",
   "execution_count": 6,
   "metadata": {},
   "outputs": [
    {
     "name": "stdout",
     "output_type": "stream",
     "text": [
      "Employees with less than 2 years of experience:\n",
      "(105, 'HR', 1.9, 6, 4.1)\n"
     ]
    }
   ],
   "source": [
    "def less_than_two_years_experience(data):\n",
    "    inexperienced_employees = data[data['YearsOfExperience'] < 2]\n",
    "    print(\"Employees with less than 2 years of experience:\")\n",
    "    for employee in inexperienced_employees:\n",
    "        print(employee)\n",
    "\n",
    "\n",
    "less_than_two_years_experience(employee_data)"
   ]
  },
  {
   "cell_type": "markdown",
   "metadata": {},
   "source": []
  },
  {
   "cell_type": "code",
   "execution_count": null,
   "metadata": {},
   "outputs": [],
   "source": []
  }
 ],
 "metadata": {
  "kernelspec": {
   "display_name": "Python 3",
   "language": "python",
   "name": "python3"
  },
  "language_info": {
   "codemirror_mode": {
    "name": "ipython",
    "version": 3
   },
   "file_extension": ".py",
   "mimetype": "text/x-python",
   "name": "python",
   "nbconvert_exporter": "python",
   "pygments_lexer": "ipython3",
   "version": "3.12.4"
  }
 },
 "nbformat": 4,
 "nbformat_minor": 2
}
