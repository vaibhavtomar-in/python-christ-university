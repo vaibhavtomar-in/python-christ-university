{
 "cells": [
  {
   "cell_type": "markdown",
   "metadata": {},
   "source": [
    "A"
   ]
  },
  {
   "cell_type": "code",
   "execution_count": 26,
   "metadata": {},
   "outputs": [],
   "source": [
    "def mergingDict(*args):\n",
    "    merged_dict = {}\n",
    "    for dictionary in args:\n",
    "        for i in dictionary:\n",
    "            if (i not in merged_dict.keys()):\n",
    "                merged_dict[i] = [dictionary[i]]\n",
    "            else:\n",
    "                merged_dict[i].append(dictionary[i])\n",
    "    return merged_dict"
   ]
  },
  {
   "cell_type": "code",
   "execution_count": 27,
   "metadata": {},
   "outputs": [
    {
     "name": "stdout",
     "output_type": "stream",
     "text": [
      "{'a': [1], 'b': [2, 3, 5], 'c': [4]}\n"
     ]
    }
   ],
   "source": [
    "dict1 = {\"a\": 1, \"b\": 2}\n",
    "dict2 = {\"b\": 3, \"c\": 4}\n",
    "dict3 = {\"b\": 5}\n",
    "\n",
    "merged = mergingDict(dict1, dict2, dict3)\n",
    "print(merged)"
   ]
  },
  {
   "cell_type": "markdown",
   "metadata": {},
   "source": [
    "B"
   ]
  },
  {
   "cell_type": "code",
   "execution_count": 11,
   "metadata": {},
   "outputs": [],
   "source": [
    "def commonKeys(*args):\n",
    "    common_keys = set(args[0].keys())\n",
    "    for dictionary in args:\n",
    "        common_keys = common_keys.intersection(set(dictionary.keys()))\n",
    "    return list(common_keys)"
   ]
  },
  {
   "cell_type": "code",
   "execution_count": 12,
   "metadata": {},
   "outputs": [
    {
     "name": "stdout",
     "output_type": "stream",
     "text": [
      "['b']\n"
     ]
    }
   ],
   "source": [
    "common_keys = commonKeys(dict1,dict2,dict3)\n",
    "print(common_keys)"
   ]
  },
  {
   "cell_type": "markdown",
   "metadata": {},
   "source": [
    "C"
   ]
  },
  {
   "cell_type": "code",
   "execution_count": 24,
   "metadata": {},
   "outputs": [],
   "source": [
    "def invertDictionary(dictin):\n",
    "    result= {}\n",
    "    for i in dictin:\n",
    "        if (dictin[i] not in result.keys()):\n",
    "            result[dictin[i]] = [i]\n",
    "        else:\n",
    "            result[dictin[i]].append(i)\n",
    "    return result"
   ]
  },
  {
   "cell_type": "markdown",
   "metadata": {},
   "source": [
    "inverting a dicionary"
   ]
  },
  {
   "cell_type": "code",
   "execution_count": 25,
   "metadata": {},
   "outputs": [
    {
     "name": "stdout",
     "output_type": "stream",
     "text": [
      "{100: ['orange', 'berry'], 200: ['apple']}\n"
     ]
    }
   ],
   "source": [
    "fruitPrice = {\"orange\": 100, \"apple\" : 200, \"berry\" : 100}\n",
    "fruitGroup = invertDictionary(fruitPrice)\n",
    "print(fruitGroup)"
   ]
  },
  {
   "cell_type": "markdown",
   "metadata": {},
   "source": [
    "D"
   ]
  },
  {
   "cell_type": "code",
   "execution_count": 32,
   "metadata": {},
   "outputs": [],
   "source": [
    "def commonKeyValue(*args):\n",
    "    common_pairs = {(x, args[0][x]) for x in args[0]}\n",
    "    for dictionary in args:\n",
    "        temp = {(x, dictionary[x]) for x in dictionary}\n",
    "        common_pairs = common_pairs.intersection(temp)\n",
    "    return common_pairs"
   ]
  },
  {
   "cell_type": "code",
   "execution_count": 33,
   "metadata": {},
   "outputs": [
    {
     "name": "stdout",
     "output_type": "stream",
     "text": [
      "{('a', 1)}\n"
     ]
    }
   ],
   "source": [
    "dict4 = {\"a\": 1, \"b\": 2}\n",
    "dict5 = {\"b\": 3, \"a\": 1}\n",
    "dict6 = {\"a\": 1}\n",
    "print(commonKeyValue(dict4,dict5,dict6))"
   ]
  }
 ],
 "metadata": {
  "kernelspec": {
   "display_name": "Python 3",
   "language": "python",
   "name": "python3"
  },
  "language_info": {
   "codemirror_mode": {
    "name": "ipython",
    "version": 3
   },
   "file_extension": ".py",
   "mimetype": "text/x-python",
   "name": "python",
   "nbconvert_exporter": "python",
   "pygments_lexer": "ipython3",
   "version": "3.11.2"
  }
 },
 "nbformat": 4,
 "nbformat_minor": 2
}
