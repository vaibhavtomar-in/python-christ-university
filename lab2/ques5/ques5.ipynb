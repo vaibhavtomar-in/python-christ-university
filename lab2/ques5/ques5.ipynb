{
 "cells": [
  {
   "cell_type": "markdown",
   "metadata": {},
   "source": [
    "Write a Python program to analyze and process weather data for New York City from 1st\n",
    "August to 10th July in 2024.\n",
    "\n",
    "1. Each day’s data includes:\n",
    "o Date\n",
    "o Maximum temperature (in Celsius)\n",
    "o Minimum temperature (in Celsius)\n",
    "o Humidity (in percentage)\n",
    "(Hint: Store the data in a list of dictionaries.)\n",
    "\n",
    "2. Write a function to find the highest and lowest temperatures recorded during the week.\n",
    "\n",
    "3. Write a function to determine the number of days with temperatures above 30°C.\n",
    "\n",
    "4. Write a function to compute the average humidity over the specified period."
   ]
  },
  {
   "cell_type": "code",
   "execution_count": 1,
   "metadata": {},
   "outputs": [],
   "source": [
    "import random\n",
    "from datetime import date, timedelta\n",
    "import WeatherModule\n",
    "\n",
    "# Generate dates for the period 1st August 2023 to 10th July 2024\n",
    "startDate = date(2023, 8, 1)\n",
    "endDate = date(2024, 7, 10)\n",
    "\n",
    "delta = (endDate - startDate).days\n",
    "# Generate a list of dictionaries to store weather data\n",
    "weatherData = []\n",
    "for i in range(delta):\n",
    "    day = startDate + timedelta(i)\n",
    "    max_temp = round(random.uniform(25, 35), 1)  # Random max temp between 25 and 35°C\n",
    "    min_temp = round(random.uniform(5, 25), 1)  # Random min temp between 15 and 25°C\n",
    "    humidity = random.randint(50, 100)  # Random humidity between 50% and 100%\n",
    "\n",
    "    weatherData.append({\n",
    "        \"date\": day.strftime('%Y-%m-%d'),\n",
    "        \"max_temp\": max_temp,\n",
    "        \"min_temp\": min_temp,\n",
    "        \"humidity\": humidity\n",
    "    })"
   ]
  },
  {
   "cell_type": "code",
   "execution_count": 2,
   "metadata": {},
   "outputs": [
    {
     "ename": "NameError",
     "evalue": "name 'WeatherModule' is not defined",
     "output_type": "error",
     "traceback": [
      "\u001b[1;31m---------------------------------------------------------------------------\u001b[0m",
      "\u001b[1;31mNameError\u001b[0m                                 Traceback (most recent call last)",
      "Cell \u001b[1;32mIn[2], line 1\u001b[0m\n\u001b[1;32m----> 1\u001b[0m result \u001b[38;5;241m=\u001b[39m \u001b[43mWeatherModule\u001b[49m\u001b[38;5;241m.\u001b[39mhighLowWeek(weatherData, \u001b[38;5;124m\"\u001b[39m\u001b[38;5;124m2023-08-01\u001b[39m\u001b[38;5;124m\"\u001b[39m)\n\u001b[0;32m      2\u001b[0m \u001b[38;5;28mprint\u001b[39m(\u001b[38;5;124m\"\u001b[39m\u001b[38;5;124m highest and lowest temperature for a week from 2023-08-01 is:\u001b[39m\u001b[38;5;130;01m\\n\u001b[39;00m\u001b[38;5;124m\"\u001b[39m, \u001b[38;5;124m\"\u001b[39m\u001b[38;5;124mhighest temp : \u001b[39m\u001b[38;5;124m\"\u001b[39m, result[\u001b[38;5;241m0\u001b[39m], \u001b[38;5;124m\"\u001b[39m\u001b[38;5;130;01m\\n\u001b[39;00m\u001b[38;5;124m lowest temp : \u001b[39m\u001b[38;5;124m\"\u001b[39m, result[\u001b[38;5;241m1\u001b[39m])\n",
      "\u001b[1;31mNameError\u001b[0m: name 'WeatherModule' is not defined"
     ]
    }
   ],
   "source": [
    "result = WeatherModule.highLowWeek(weatherData, \"2023-08-01\")\n",
    "print(\" highest and lowest temperature for a week from 2023-08-01 is:\\n\", \"highest temp : \", result[0], \"\\n lowest temp : \", result[1])"
   ]
  },
  {
   "cell_type": "code",
   "execution_count": null,
   "metadata": {},
   "outputs": [
    {
     "name": "stdout",
     "output_type": "stream",
     "text": [
      "number of days with temperature above 30 :  172\n"
     ]
    }
   ],
   "source": [
    "import WeatherModule\n",
    "print(\"number of days with temperature above 30 : \", WeatherModule.tempAbove30(weatherData))"
   ]
  },
  {
   "cell_type": "code",
   "execution_count": null,
   "metadata": {},
   "outputs": [
    {
     "name": "stdout",
     "output_type": "stream",
     "text": [
      "average humidity for 6 days from 2024-07-05 is :  54.333333333333336\n"
     ]
    }
   ],
   "source": [
    "print(\"average humidity for 6 days from 2024-07-05 is : \", WeatherModule.avgHumidity(weatherData, \"2024-07-05\", 6))"
   ]
  }
 ],
 "metadata": {
  "kernelspec": {
   "display_name": "Python 3",
   "language": "python",
   "name": "python3"
  },
  "language_info": {
   "codemirror_mode": {
    "name": "ipython",
    "version": 3
   },
   "file_extension": ".py",
   "mimetype": "text/x-python",
   "name": "python",
   "nbconvert_exporter": "python",
   "pygments_lexer": "ipython3",
   "version": "3.11.2"
  }
 },
 "nbformat": 4,
 "nbformat_minor": 2
}
