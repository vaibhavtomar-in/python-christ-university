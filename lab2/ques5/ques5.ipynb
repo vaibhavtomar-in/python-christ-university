{
 "cells": [
  {
   "cell_type": "markdown",
   "metadata": {},
   "source": [
    "Write a Python program to analyze and process weather data for New York City from 1st\n",
    "August to 10th July in 2024.\n",
    "\n",
    "1. Each day’s data includes:\n",
    "o Date\n",
    "o Maximum temperature (in Celsius)\n",
    "o Minimum temperature (in Celsius)\n",
    "o Humidity (in percentage)\n",
    "(Hint: Store the data in a list of dictionaries.)\n",
    "\n",
    "2. Write a function to find the highest and lowest temperatures recorded during the week.\n",
    "\n",
    "3. Write a function to determine the number of days with temperatures above 30°C.\n",
    "\n",
    "4. Write a function to compute the average humidity over the specified period."
   ]
  },
  {
   "cell_type": "code",
   "execution_count": 46,
   "metadata": {},
   "outputs": [],
   "source": [
    "import random\n",
    "from datetime import date, timedelta\n",
    "\n",
    "# Generate dates for the period 1st August 2023 to 10th July 2024\n",
    "startDate = date(2023, 8, 1)\n",
    "endDate = date(2024, 7, 10)\n",
    "\n",
    "delta = (endDate - startDate).days\n",
    "# Generate a list of dictionaries to store weather data\n",
    "weatherData = []\n",
    "for i in range(delta):\n",
    "    day = startDate + timedelta(i)\n",
    "    max_temp = round(random.uniform(25, 35), 1)  # Random max temp between 25 and 35°C\n",
    "    min_temp = round(random.uniform(5, 25), 1)  # Random min temp between 15 and 25°C\n",
    "    humidity = random.randint(50, 100)  # Random humidity between 50% and 100%\n",
    "\n",
    "    weatherData.append({\n",
    "        \"date\": day.strftime('%Y-%m-%d'),\n",
    "        \"max_temp\": max_temp,\n",
    "        \"min_temp\": min_temp,\n",
    "        \"humidity\": humidity\n",
    "    })"
   ]
  },
  {
   "cell_type": "code",
   "execution_count": 47,
   "metadata": {},
   "outputs": [
    {
     "name": "stdout",
     "output_type": "stream",
     "text": [
      " highest and lowest temperature for a week from 2023-08-01 is:\n",
      " highest temp :  34.6 \n",
      " lowest temp :  7.2\n"
     ]
    }
   ],
   "source": [
    "result = WeatherModule.highLowWeek(weatherData, \"2023-08-01\")\n",
    "print(\" highest and lowest temperature for a week from 2023-08-01 is:\\n\", \"highest temp : \", result[0], \"\\n lowest temp : \", result[1])"
   ]
  },
  {
   "cell_type": "code",
   "execution_count": 48,
   "metadata": {},
   "outputs": [
    {
     "name": "stdout",
     "output_type": "stream",
     "text": [
      "number of days with temperature above 30 :  172\n"
     ]
    }
   ],
   "source": [
    "import WeatherModule\n",
    "print(\"number of days with temperature above 30 : \", WeatherModule.tempAbove30(weatherData))"
   ]
  },
  {
   "cell_type": "code",
   "execution_count": 49,
   "metadata": {},
   "outputs": [
    {
     "name": "stdout",
     "output_type": "stream",
     "text": [
      "average humidity for 6 days from 2024-07-05 is :  54.333333333333336\n"
     ]
    }
   ],
   "source": [
    "print(\"average humidity for 6 days from 2024-07-05 is : \", WeatherModule.avgHumidity(weatherData, \"2024-07-05\", 6))"
   ]
  }
 ],
 "metadata": {
  "kernelspec": {
   "display_name": "Python 3",
   "language": "python",
   "name": "python3"
  },
  "language_info": {
   "codemirror_mode": {
    "name": "ipython",
    "version": 3
   },
   "file_extension": ".py",
   "mimetype": "text/x-python",
   "name": "python",
   "nbconvert_exporter": "python",
   "pygments_lexer": "ipython3",
   "version": "3.11.2"
  }
 },
 "nbformat": 4,
 "nbformat_minor": 2
}
