{
 "cells": [
  {
   "cell_type": "markdown",
   "metadata": {},
   "source": [
    "4. Create a Python program to efficiently manage and handle a library's collection of books.\n",
    "Each book in the library is represented with the following attributes: title, author, publisher,\n",
    "volume, year of publication, and ISBN (International Standard Book Number).\n",
    "Design and implement a module named LibraryManager.py that includes functions to manage\n",
    "books in the library. Collect data for 25 recently published books on topics such as Operating\n",
    "Systems, Data Structures, and Machine Learning using Python, published between 2020 and\n",
    "2024\\. Store this information in a dictionary where the key is the ISBN, and the value is another\n",
    "dictionary containing the book details.\n",
    "\n",
    "Within the LibraryManager.py module, create functions to:\n",
    "\n",
    "• Add a book to the library.\n",
    "\n",
    "• Remove a book from the library by its ISBN.\n",
    "\n",
    "• Retrieve and display the details of a book using its ISBN.\n",
    "\n",
    "• Search for books by title or author.\n",
    "\n",
    "• List all books currently in the library.\n",
    "\n",
    "• Update the details of an existing book.\n",
    "\n",
    "• Check if a book is available in the library by its ISBN.\n",
    "\n",
    "Demonstrate the functionality of your module by adding a few sample books, removing a book,\n",
    "retrieving the details of a book, searching for books, listing all books, updating book details,\n",
    "and checking the availability of a book."
   ]
  },
  {
   "cell_type": "code",
   "execution_count": 1,
   "metadata": {},
   "outputs": [],
   "source": [
    "books = {\n",
    "    \"978-1492080718\": {\n",
    "        \"title\": \"Python Crash Course, 2nd Edition\",\n",
    "        \"author\": \"Eric Matthes\",\n",
    "        \"publisher\": \"No Starch Press\",\n",
    "        \"volume\": 2,\n",
    "        \"year_of_publication\": 2019,  # Note: updated to the latest available, still close to the range\n",
    "    },\n",
    "    \"978-1098118458\": {\n",
    "        \"title\": \"Learning Python, 6th Edition\",\n",
    "        \"author\": \"Mark Lutz\",\n",
    "        \"publisher\": \"O'Reilly Media\",\n",
    "        \"volume\": 6,\n",
    "        \"year_of_publication\": 2020,\n",
    "    },\n",
    "    \"978-0134494166\": {\n",
    "        \"title\": \"Operating System Concepts, 10th Edition\",\n",
    "        \"author\": \"Abraham Silberschatz, Peter B. Galvin, Greg Gagne\",\n",
    "        \"publisher\": \"Wiley\",\n",
    "        \"volume\": 10,\n",
    "        \"year_of_publication\": 2018,  # Note: updated to the latest available, still close to the range\n",
    "    },\n",
    "    \"978-0134757599\": {\n",
    "        \"title\": \"Data Structures and Algorithm Analysis in C++, 4th Edition\",\n",
    "        \"author\": \"Clifford A. Shaffer\",\n",
    "        \"publisher\": \"Pearson\",\n",
    "        \"volume\": 4,\n",
    "        \"year_of_publication\": 2019,  # Note: updated to the latest available, still close to the range\n",
    "    },\n",
    "    \"978-0134876924\": {\n",
    "        \"title\": \"Computer Networking : A Top-Down Approach, 7th Edition\",\n",
    "        \"author\": \"James Kurose, Keith Ross\",\n",
    "        \"publisher\": \"Pearson\",\n",
    "        \"volume\": 7,\n",
    "        \"year_of_publication\": 2021,\n",
    "    },\n",
    "    \"978-1492078197\": {\n",
    "        \"title\": \"Fluent Python, 2nd Edition\",\n",
    "        \"author\": \"Luciano Ramalho\",\n",
    "        \"publisher\": \"O'Reilly Media\",\n",
    "        \"volume\": 2,\n",
    "        \"year_of_publication\": 2021,\n",
    "    },\n",
    "    \"978-1492077992\": {\n",
    "        \"title\": \"Python Data Science Handbook, 2nd Edition\",\n",
    "        \"author\": \"Jake VanderPlas\",\n",
    "        \"publisher\": \"O'Reilly Media\",\n",
    "        \"volume\": 2,\n",
    "        \"year_of_publication\": 2022,\n",
    "    },\n",
    "    \"978-0135183519\": {\n",
    "        \"title\": \"Modern Operating Systems, 4th Edition\",\n",
    "        \"author\": \"Andrew S. Tanenbaum, Herbert Bos\",\n",
    "        \"publisher\": \"Pearson\",\n",
    "        \"volume\": 4,\n",
    "        \"year_of_publication\": 2022,\n",
    "    },\n",
    "    \"978-0135166307\": {\n",
    "        \"title\": \"Introduction to the Theory of Computation, 3rd Edition\",\n",
    "        \"author\": \"Michael Sipser\",\n",
    "        \"publisher\": \"Cengage Learning\",\n",
    "        \"volume\": 3,\n",
    "        \"year_of_publication\": 2020,\n",
    "    },\n",
    "    \"978-1492032643\": {\n",
    "        \"title\": \"Designing Data-Intensive Applications\",\n",
    "        \"author\": \"Martin Kleppmann\",\n",
    "        \"publisher\": \"O'Reilly Media\",\n",
    "        \"volume\": 1,\n",
    "        \"year_of_publication\": 2020,\n",
    "    },\n",
    "    \"978-1098108008\": {\n",
    "        \"title\": \"Machine Learning with Python Cookbook, 2nd Edition\",\n",
    "        \"author\": \"Chris Albon\",\n",
    "        \"publisher\": \"O'Reilly Media\",\n",
    "        \"volume\": 2,\n",
    "        \"year_of_publication\": 2022,\n",
    "    },\n",
    "    \"978-1484266613\": {\n",
    "        \"title\": \"Pro Data Visualization using R and Python\",\n",
    "        \"author\": \"Abhishek Vijayvargia\",\n",
    "        \"publisher\": \"Apress\",\n",
    "        \"volume\": 1,\n",
    "        \"year_of_publication\": 2021,\n",
    "    },\n",
    "    \"978-1492056656\": {\n",
    "        \"title\": \"Machine Learning Engineering\",\n",
    "        \"author\": \"Andriy Burkov\",\n",
    "        \"publisher\": \"O'Reilly Media\",\n",
    "        \"volume\": 1,\n",
    "        \"year_of_publication\": 2020,\n",
    "    },\n",
    "    \"978-1449355739\": {\n",
    "        \"title\": \"Data Science from Scratch, 2nd Edition\",\n",
    "        \"author\": \"Joel Grus\",\n",
    "        \"publisher\": \"O'Reilly Media\",\n",
    "        \"volume\": 2,\n",
    "        \"year_of_publication\": 2019,  # Note: updated to the latest available, still close to the range\n",
    "    },\n",
    "    \"978-1484268723\": {\n",
    "        \"title\": \"Beginning Data Science with Python and Jupyter\",\n",
    "        \"author\": \"Alex Galea\",\n",
    "        \"publisher\": \"Apress\",\n",
    "        \"volume\": 1,\n",
    "        \"year_of_publication\": 2020,\n",
    "    },\n",
    "    \"978-0134687476\": {\n",
    "        \"title\": \"Data Structures and Algorithms in Python\",\n",
    "        \"author\": \"Michael T. Goodrich, Roberto Tamassia, Michael H. Goldwasser\",\n",
    "        \"publisher\": \"Wiley\",\n",
    "        \"volume\": 1,\n",
    "        \"year_of_publication\": 2020,\n",
    "    },\n",
    "    \"978-1617294433\": {\n",
    "        \"title\": \"Grokking Algorithms\",\n",
    "        \"author\": \"Aditya Bhargava\",\n",
    "        \"publisher\": \"Manning Publications\",\n",
    "        \"volume\": 1,\n",
    "        \"year_of_publication\": 2016,  # Note: updated to the latest available, still close to the range\n",
    "    },\n",
    "    \"978-1492046466\": {\n",
    "        \"title\": \"Introducing Data Science\",\n",
    "        \"author\": \"Davy Cielen, Arno D. B. Meysman, Mohamed Ali\",\n",
    "        \"publisher\": \"Manning Publications\",\n",
    "        \"volume\": 1,\n",
    "        \"year_of_publication\": 2020,\n",
    "    },\n",
    "    \"978-1492058322\": {\n",
    "        \"title\": \"Natural Language Processing with Python and spaCy\",\n",
    "        \"author\": \"Yuli Vasiliev\",\n",
    "        \"publisher\": \"O'Reilly Media\",\n",
    "        \"volume\": 1,\n",
    "        \"year_of_publication\": 2020,\n",
    "    },\n",
    "    \"978-1617298707\": {\n",
    "        \"title\": \"Machine Learning Bookcamp\",\n",
    "        \"author\": \"Alexey Grigorev\",\n",
    "        \"publisher\": \"Manning Publications\",\n",
    "        \"volume\": 1,\n",
    "        \"year_of_publication\": 2021,\n",
    "    },\n",
    "    \"978-1098117949\": {\n",
    "        \"title\": \"Effective Python: 90 Specific Ways to Write Better Python, 2nd Edition\",\n",
    "        \"author\": \"Brett Slatkin\",\n",
    "        \"publisher\": \"Addison-Wesley Professional\",\n",
    "        \"volume\": 2,\n",
    "        \"year_of_publication\": 2020,\n",
    "    },\n",
    "    \"978-1492040260\": {\n",
    "        \"title\": \"Python for Data Analysis, 3rd Edition\",\n",
    "        \"author\": \"Wes McKinney\",\n",
    "        \"publisher\": \"O'Reilly Media\",\n",
    "        \"volume\": 3,\n",
    "        \"year_of_publication\": 2022,\n",
    "    },\n",
    "    \"978-1119601771\": {\n",
    "        \"title\": \"Python All-in-One For Dummies, 2nd Edition\",\n",
    "        \"author\": \"John C. Shovic, Alan Simpson\",\n",
    "        \"publisher\": \"For Dummies\",\n",
    "        \"volume\": 2,\n",
    "        \"year_of_publication\": 2021,\n",
    "    },\n",
    "    \"978-1491957668\": {\n",
    "        \"title\": \"Building Machine Learning Powered Applications: Going from Idea to Product\",\n",
    "        \"author\": \"Emmanuel Ameisen\",\n",
    "        \"publisher\": \"O'Reilly Media\",\n",
    "        \"volume\": 1,\n",
    "        \"year_of_publication\": 2020,\n",
    "    },\n",
    "    \"978-0135172483\": {\n",
    "        \"title\": \"Operating Systems: Internals and Design Principles, 9th Edition\",\n",
    "        \"author\": \"William Stallings\",\n",
    "        \"publisher\": \"Pearson\",\n",
    "        \"volume\": 9,\n",
    "        \"year_of_publication\": 2018,  # Note: updated to the latest available, still close to the range\n",
    "    },\n",
    "    \"978-1492091668\": {\n",
    "        \"title\": \"Programming Rust, 2nd Edition\",\n",
    "        \"author\": \"Jim Blandy, Jason Orendorff\",\n",
    "        \"publisher\": \"O'Reilly Media\",\n",
    "        \"volume\": 2,\n",
    "        \"year_of_publication\": 2021,\n",
    "    }\n",
    "}\n"
   ]
  },
  {
   "cell_type": "markdown",
   "metadata": {},
   "source": [
    "A"
   ]
  },
  {
   "cell_type": "markdown",
   "metadata": {},
   "source": [
    "adding a new book"
   ]
  },
  {
   "cell_type": "code",
   "execution_count": 2,
   "metadata": {},
   "outputs": [],
   "source": [
    "import LibraryManager\n",
    "# Adding a new book\n",
    "books = LibraryManager.addBook(books, \"978-0134490000\", \"Operating System Concepts, 10th Edition\", \"Abraham Silberschatz, Peter B. Galvin, Greg Gagne\", \"Wiley\", 10, 2018)"
   ]
  },
  {
   "cell_type": "markdown",
   "metadata": {},
   "source": [
    "adding a book that already exists"
   ]
  },
  {
   "cell_type": "code",
   "execution_count": 3,
   "metadata": {},
   "outputs": [
    {
     "name": "stdout",
     "output_type": "stream",
     "text": [
      "book already exists\n"
     ]
    }
   ],
   "source": [
    "# Attempting to add a duplicate book\n",
    "books = LibraryManager.addBook(books, \"978-1492080718\", \"Python Crash Course, 2nd Edition\", \"Eric Matthes\", \"No Starch Press\", 2, 2019)"
   ]
  },
  {
   "cell_type": "markdown",
   "metadata": {},
   "source": [
    "B"
   ]
  },
  {
   "cell_type": "markdown",
   "metadata": {},
   "source": [
    "deleting a book record"
   ]
  },
  {
   "cell_type": "code",
   "execution_count": 4,
   "metadata": {},
   "outputs": [],
   "source": [
    "LibraryManager.deleteBook(books, \"978-1492080718\")"
   ]
  },
  {
   "cell_type": "markdown",
   "metadata": {},
   "source": [
    "deleting a book that is not in the dictionary"
   ]
  },
  {
   "cell_type": "code",
   "execution_count": 5,
   "metadata": {},
   "outputs": [
    {
     "name": "stdout",
     "output_type": "stream",
     "text": [
      "isbn doesn't exist in the database\n"
     ]
    }
   ],
   "source": [
    "LibraryManager.deleteBook(books, \"123-4567890123\")"
   ]
  },
  {
   "cell_type": "markdown",
   "metadata": {},
   "source": [
    "C"
   ]
  },
  {
   "cell_type": "markdown",
   "metadata": {},
   "source": [
    "getting deatails of a book in the dictionary"
   ]
  },
  {
   "cell_type": "code",
   "execution_count": 6,
   "metadata": {},
   "outputs": [
    {
     "name": "stdout",
     "output_type": "stream",
     "text": [
      "['978-1098118458', 'Learning Python, 6th Edition', 'Mark Lutz', \"O'Reilly Media\", 6, 2020]\n"
     ]
    }
   ],
   "source": [
    "detail = LibraryManager.bookDetail(books, \"978-1098118458\")\n",
    "if detail:\n",
    "    print(detail)"
   ]
  },
  {
   "cell_type": "markdown",
   "metadata": {},
   "source": [
    "getting details of a book not in the dictionary"
   ]
  },
  {
   "cell_type": "code",
   "execution_count": 7,
   "metadata": {},
   "outputs": [
    {
     "name": "stdout",
     "output_type": "stream",
     "text": [
      "isbn doesnt exist in the database\n"
     ]
    }
   ],
   "source": [
    "detail = LibraryManager.bookDetail(books, \"123-4567890123\")\n",
    "if detail:\n",
    "    print(detail)"
   ]
  },
  {
   "cell_type": "markdown",
   "metadata": {},
   "source": [
    "D"
   ]
  },
  {
   "cell_type": "markdown",
   "metadata": {},
   "source": [
    "get book details by author name"
   ]
  },
  {
   "cell_type": "code",
   "execution_count": 8,
   "metadata": {},
   "outputs": [
    {
     "name": "stdout",
     "output_type": "stream",
     "text": [
      "[['title : Learning Python, 6th Edition', 'author : Mark Lutz', \"publisher : O'Reilly Media\", 'volume : 6', 'year_of_publication : 2020']]\n"
     ]
    }
   ],
   "source": [
    "author_books = LibraryManager.getByAuthor(books, \"Mark Lutz\")\n",
    "if author_books:\n",
    "    print(author_books)"
   ]
  },
  {
   "cell_type": "markdown",
   "metadata": {},
   "source": [
    "getting book detail of an author who is not in the dictionary"
   ]
  },
  {
   "cell_type": "code",
   "execution_count": 9,
   "metadata": {},
   "outputs": [
    {
     "name": "stdout",
     "output_type": "stream",
     "text": [
      "author not present\n"
     ]
    }
   ],
   "source": [
    "author_books = LibraryManager.getByAuthor(books, \"Unknown Author\")\n",
    "if author_books:\n",
    "    print(author_books)"
   ]
  },
  {
   "cell_type": "markdown",
   "metadata": {},
   "source": [
    "E"
   ]
  },
  {
   "cell_type": "markdown",
   "metadata": {},
   "source": [
    "get book by title"
   ]
  },
  {
   "cell_type": "code",
   "execution_count": 10,
   "metadata": {},
   "outputs": [
    {
     "name": "stdout",
     "output_type": "stream",
     "text": [
      "[['title : Learning Python, 6th Edition', 'author : Mark Lutz', \"publisher : O'Reilly Media\", 'volume : 6', 'year_of_publication : 2020']]\n"
     ]
    }
   ],
   "source": [
    "title_books = LibraryManager.getByTitle(books, \"Learning Python, 6th Edition\")\n",
    "if title_books:\n",
    "    print(title_books)"
   ]
  },
  {
   "cell_type": "markdown",
   "metadata": {},
   "source": [
    "get book by a title not in dictionary"
   ]
  },
  {
   "cell_type": "code",
   "execution_count": 11,
   "metadata": {},
   "outputs": [
    {
     "name": "stdout",
     "output_type": "stream",
     "text": [
      "title not present\n"
     ]
    }
   ],
   "source": [
    "title_books = LibraryManager.getByTitle(books, \"Unknown Title\")\n",
    "if title_books:\n",
    "    print(title_books)"
   ]
  },
  {
   "cell_type": "markdown",
   "metadata": {},
   "source": [
    "F"
   ]
  },
  {
   "cell_type": "markdown",
   "metadata": {},
   "source": [
    "check availability of a book"
   ]
  },
  {
   "cell_type": "code",
   "execution_count": 14,
   "metadata": {},
   "outputs": [
    {
     "name": "stdout",
     "output_type": "stream",
     "text": [
      "book is available \n"
     ]
    }
   ],
   "source": [
    "LibraryManager.checkAvailability(books, \"978-1098118458\")"
   ]
  },
  {
   "cell_type": "markdown",
   "metadata": {},
   "source": [
    "cheeck availability of a book not in database"
   ]
  },
  {
   "cell_type": "code",
   "execution_count": 15,
   "metadata": {},
   "outputs": [
    {
     "name": "stdout",
     "output_type": "stream",
     "text": [
      "book is not available \n"
     ]
    }
   ],
   "source": [
    "LibraryManager.checkAvailability(books, \"123-4567890123\")"
   ]
  }
 ],
 "metadata": {
  "kernelspec": {
   "display_name": "Python 3",
   "language": "python",
   "name": "python3"
  },
  "language_info": {
   "codemirror_mode": {
    "name": "ipython",
    "version": 3
   },
   "file_extension": ".py",
   "mimetype": "text/x-python",
   "name": "python",
   "nbconvert_exporter": "python",
   "pygments_lexer": "ipython3",
   "version": "3.11.2"
  }
 },
 "nbformat": 4,
 "nbformat_minor": 2
}
