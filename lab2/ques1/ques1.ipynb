{
 "cells": [
  {
   "cell_type": "markdown",
   "metadata": {},
   "source": [
    "(1.)(a) Develop a module called module_ListFunction that includes the following functions:\n",
    "\n",
    "i. A function to find the maximum value in a given list.\n",
    "\n",
    "ii. A function to find the minimum value in a given list.\n",
    "\n",
    "iii. A function to calculate the sum of all elements in a list.\n",
    "\n",
    "iv. A function to compute the average of the list.\n",
    "\n",
    "v. A function to determine the median of a list.\n",
    "\n",
    "Additionally, create lists using Python comprehension for various scenarios and demonstrate\n",
    "the use of the module functions with these lists.\n",
    "\n",
    "(b) Create another script named ‘main_ListOpeartions.py’ and Imports the\n",
    "‘module_ListFunction’ to it.\n",
    "\n",
    "(c) Demonstrate the execution of each function with suitable examples."
   ]
  },
  {
   "cell_type": "code",
   "execution_count": 32,
   "metadata": {},
   "outputs": [
    {
     "name": "stdout",
     "output_type": "stream",
     "text": [
      "[-1, 4, -27, 256, -3125, 46656]\n",
      "[-3125, -27, -1, 4, 256, 46656]\n"
     ]
    }
   ],
   "source": [
    "import module_ListFunction\n",
    "listdemo = [(-x)**x for x in range(1,7)]\n",
    "print(listdemo)\n",
    "print(sorted(listdemo))\n"
   ]
  },
  {
   "cell_type": "code",
   "execution_count": 38,
   "metadata": {},
   "outputs": [
    {
     "data": {
      "text/plain": [
       "46656"
      ]
     },
     "execution_count": 38,
     "metadata": {},
     "output_type": "execute_result"
    }
   ],
   "source": [
    "module_ListFunction.maxList(listdemo)"
   ]
  },
  {
   "cell_type": "code",
   "execution_count": 34,
   "metadata": {},
   "outputs": [
    {
     "data": {
      "text/plain": [
       "-3125"
      ]
     },
     "execution_count": 34,
     "metadata": {},
     "output_type": "execute_result"
    }
   ],
   "source": [
    "module_ListFunction.minList(listdemo)"
   ]
  },
  {
   "cell_type": "code",
   "execution_count": 35,
   "metadata": {},
   "outputs": [
    {
     "data": {
      "text/plain": [
       "43763"
      ]
     },
     "execution_count": 35,
     "metadata": {},
     "output_type": "execute_result"
    }
   ],
   "source": [
    "module_ListFunction.sumList(listdemo)"
   ]
  },
  {
   "cell_type": "code",
   "execution_count": 36,
   "metadata": {},
   "outputs": [
    {
     "data": {
      "text/plain": [
       "7293.833333333333"
      ]
     },
     "execution_count": 36,
     "metadata": {},
     "output_type": "execute_result"
    }
   ],
   "source": [
    "module_ListFunction.averageList(listdemo)"
   ]
  },
  {
   "cell_type": "code",
   "execution_count": 37,
   "metadata": {},
   "outputs": [
    {
     "data": {
      "text/plain": [
       "1.5"
      ]
     },
     "execution_count": 37,
     "metadata": {},
     "output_type": "execute_result"
    }
   ],
   "source": [
    "module_ListFunction.medianList(listdemo)"
   ]
  }
 ],
 "metadata": {
  "kernelspec": {
   "display_name": "Python 3",
   "language": "python",
   "name": "python3"
  },
  "language_info": {
   "codemirror_mode": {
    "name": "ipython",
    "version": 3
   },
   "file_extension": ".py",
   "mimetype": "text/x-python",
   "name": "python",
   "nbconvert_exporter": "python",
   "pygments_lexer": "ipython3",
   "version": "3.11.2"
  }
 },
 "nbformat": 4,
 "nbformat_minor": 2
}
