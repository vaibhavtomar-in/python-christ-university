{
 "cells": [
  {
   "cell_type": "markdown",
   "metadata": {},
   "source": [
    "(2.) Write a Python program to create a module that performs various set operations.\n",
    "\n",
    "a. Write a function to add an element to a set, ensuring no errors if the element is already\n",
    "present.\n",
    "\n",
    "b. Write a function to remove an element from a set, ensuring no errors if the element is\n",
    "not present.\n",
    "\n",
    "c. Write a function to return the union and intersection of two sets, handling empty sets\n",
    "correctly.\n",
    "\n",
    "d. Write a function to return the difference S1−S2, handling empty sets correctly.\n",
    "\n",
    "e. Write a function to check if set S1 is a subset of set S2, handling empty sets correctly.\n",
    "\n",
    "f. Write a function to find the length of a set without using the len() function.\n",
    "\n",
    "g. Write a function to compute the symmetric difference of two sets.\n",
    "\n",
    "h. Write a function to compute the power set of a given set.\n",
    "\n",
    "i. Write a function to get all unique subsets of a given set.\n",
    "\n",
    "Implement this module and demonstrate it by using adequate examples."
   ]
  },
  {
   "cell_type": "code",
   "execution_count": 1,
   "metadata": {},
   "outputs": [],
   "source": [
    "import SetModule"
   ]
  },
  {
   "cell_type": "code",
   "execution_count": 2,
   "metadata": {},
   "outputs": [],
   "source": [
    "setA= {2*x for x in range(6)}\n",
    "setB={10*x for x in range(6)}"
   ]
  },
  {
   "cell_type": "code",
   "execution_count": 3,
   "metadata": {},
   "outputs": [
    {
     "name": "stdout",
     "output_type": "stream",
     "text": [
      "{0, 2, 4, 6, 8, 10}\n",
      "{0, 40, 10, 50, 20, 30}\n"
     ]
    }
   ],
   "source": [
    "print(setA)\n",
    "print(setB)"
   ]
  },
  {
   "cell_type": "markdown",
   "metadata": {},
   "source": [
    "2. a"
   ]
  },
  {
   "cell_type": "code",
   "execution_count": 4,
   "metadata": {},
   "outputs": [
    {
     "name": "stdout",
     "output_type": "stream",
     "text": [
      "set before adding :  {0, 2, 4, 6, 8, 10}\n",
      "set after adding :  {0, 2, 4, 6, 8, 10, 12}\n"
     ]
    }
   ],
   "source": [
    "print(\"set before adding : \", setA)\n",
    "SetModule.addElem(setA,12)\n",
    "print(\"set after adding : \", setA)"
   ]
  },
  {
   "cell_type": "markdown",
   "metadata": {},
   "source": [
    "adding when element is already present"
   ]
  },
  {
   "cell_type": "code",
   "execution_count": 5,
   "metadata": {},
   "outputs": [
    {
     "name": "stdout",
     "output_type": "stream",
     "text": [
      "set before adding :  {0, 2, 4, 6, 8, 10, 12}\n",
      "element already present\n",
      "set after adding :  {0, 2, 4, 6, 8, 10, 12}\n"
     ]
    }
   ],
   "source": [
    "print(\"set before adding : \", setA)\n",
    "SetModule.addElem(setA, 12)\n",
    "print(\"set after adding : \", setA)"
   ]
  },
  {
   "cell_type": "markdown",
   "metadata": {},
   "source": [
    "2. b"
   ]
  },
  {
   "cell_type": "code",
   "execution_count": 6,
   "metadata": {},
   "outputs": [
    {
     "name": "stdout",
     "output_type": "stream",
     "text": [
      "set before removing :  {0, 2, 4, 6, 8, 10, 12}\n",
      "set after removing :  {0, 2, 4, 6, 8, 10}\n"
     ]
    }
   ],
   "source": [
    "print(\"set before removing : \", setA)\n",
    "SetModule.removeElem(setA, 12)\n",
    "print(\"set after removing : \", setA)"
   ]
  },
  {
   "cell_type": "markdown",
   "metadata": {},
   "source": [
    "removing element that is not present"
   ]
  },
  {
   "cell_type": "code",
   "execution_count": 7,
   "metadata": {},
   "outputs": [
    {
     "name": "stdout",
     "output_type": "stream",
     "text": [
      "set before removing :  {0, 2, 4, 6, 8, 10}\n",
      "element not present in the set\n",
      "set after removing :  {0, 2, 4, 6, 8, 10}\n"
     ]
    }
   ],
   "source": [
    "print(\"set before removing : \", setA)\n",
    "SetModule.removeElem(setA, 14)\n",
    "print(\"set after removing : \", setA)"
   ]
  },
  {
   "cell_type": "markdown",
   "metadata": {},
   "source": [
    "2. c"
   ]
  },
  {
   "cell_type": "markdown",
   "metadata": {},
   "source": [
    "UNION"
   ]
  },
  {
   "cell_type": "code",
   "execution_count": 14,
   "metadata": {},
   "outputs": [
    {
     "name": "stdout",
     "output_type": "stream",
     "text": [
      "{0, 2, 4, 6, 8, 40, 10, 50, 20, 30}\n"
     ]
    }
   ],
   "source": [
    "setC = SetModule.unionSet(setA, setB)\n",
    "print(setC)"
   ]
  },
  {
   "cell_type": "markdown",
   "metadata": {},
   "source": [
    "handling empty sets"
   ]
  },
  {
   "cell_type": "code",
   "execution_count": 15,
   "metadata": {},
   "outputs": [
    {
     "name": "stdout",
     "output_type": "stream",
     "text": [
      "{0, 2, 4, 6, 8, 10}\n"
     ]
    }
   ],
   "source": [
    "setEmpty = set()\n",
    "setD = SetModule.unionSet(setA, setEmpty)\n",
    "print(setD)"
   ]
  },
  {
   "cell_type": "code",
   "execution_count": 16,
   "metadata": {},
   "outputs": [
    {
     "name": "stdout",
     "output_type": "stream",
     "text": [
      "set()\n"
     ]
    }
   ],
   "source": [
    "setEmpty1 = set()\n",
    "setD = SetModule.unionSet(setEmpty1, setEmpty)\n",
    "print(setD)"
   ]
  },
  {
   "cell_type": "markdown",
   "metadata": {},
   "source": [
    "INTERSECTION"
   ]
  },
  {
   "cell_type": "code",
   "execution_count": 17,
   "metadata": {},
   "outputs": [
    {
     "name": "stdout",
     "output_type": "stream",
     "text": [
      "{0, 10}\n"
     ]
    }
   ],
   "source": [
    "setIntersection = SetModule.intersectionSet(setA, setB)\n",
    "print(setIntersection)"
   ]
  },
  {
   "cell_type": "markdown",
   "metadata": {},
   "source": [
    "handling empty sets"
   ]
  },
  {
   "cell_type": "code",
   "execution_count": 18,
   "metadata": {},
   "outputs": [
    {
     "name": "stdout",
     "output_type": "stream",
     "text": [
      "set()\n"
     ]
    }
   ],
   "source": [
    "print(SetModule.intersectionSet(setA, setEmpty))"
   ]
  },
  {
   "cell_type": "code",
   "execution_count": 19,
   "metadata": {},
   "outputs": [
    {
     "name": "stdout",
     "output_type": "stream",
     "text": [
      "set()\n"
     ]
    }
   ],
   "source": [
    "print(SetModule.intersectionSet(setEmpty,setEmpty1))"
   ]
  },
  {
   "cell_type": "markdown",
   "metadata": {},
   "source": [
    "2. d"
   ]
  },
  {
   "cell_type": "code",
   "execution_count": 20,
   "metadata": {},
   "outputs": [
    {
     "name": "stdout",
     "output_type": "stream",
     "text": [
      "{8, 2, 4, 6}\n"
     ]
    }
   ],
   "source": [
    "print(SetModule.diffSet(setA,setB))"
   ]
  },
  {
   "cell_type": "code",
   "execution_count": 21,
   "metadata": {},
   "outputs": [
    {
     "name": "stdout",
     "output_type": "stream",
     "text": [
      "{40, 50, 20, 30}\n"
     ]
    }
   ],
   "source": [
    "print(SetModule.diffSet(setB, setA))"
   ]
  },
  {
   "cell_type": "markdown",
   "metadata": {},
   "source": [
    "handling empty sets"
   ]
  },
  {
   "cell_type": "code",
   "execution_count": 23,
   "metadata": {},
   "outputs": [
    {
     "name": "stdout",
     "output_type": "stream",
     "text": [
      "{0, 2, 4, 6, 8, 10}\n",
      "{0, 2, 4, 6, 8, 10}\n"
     ]
    }
   ],
   "source": [
    "print(setA)\n",
    "print(SetModule.diffSet(setA, setEmpty))"
   ]
  },
  {
   "cell_type": "markdown",
   "metadata": {},
   "source": [
    "notice no difference"
   ]
  },
  {
   "cell_type": "code",
   "execution_count": 24,
   "metadata": {},
   "outputs": [
    {
     "name": "stdout",
     "output_type": "stream",
     "text": [
      "set()\n"
     ]
    }
   ],
   "source": [
    "print(SetModule.diffSet(setEmpty, setA))"
   ]
  },
  {
   "cell_type": "code",
   "execution_count": 25,
   "metadata": {},
   "outputs": [
    {
     "name": "stdout",
     "output_type": "stream",
     "text": [
      "set()\n"
     ]
    }
   ],
   "source": [
    "print(SetModule.diffSet(setEmpty,setEmpty1))"
   ]
  },
  {
   "cell_type": "markdown",
   "metadata": {},
   "source": [
    "2. e"
   ]
  },
  {
   "cell_type": "code",
   "execution_count": 29,
   "metadata": {},
   "outputs": [
    {
     "name": "stdout",
     "output_type": "stream",
     "text": [
      "set A is :  {0, 2, 4, 6, 8, 10}\n",
      "True\n"
     ]
    }
   ],
   "source": [
    "print(\"set A is : \", setA)\n",
    "print(SetModule.checkSubset({0,2,4},setA))"
   ]
  },
  {
   "cell_type": "markdown",
   "metadata": {},
   "source": [
    "handling empty sets"
   ]
  },
  {
   "cell_type": "code",
   "execution_count": 30,
   "metadata": {},
   "outputs": [
    {
     "name": "stdout",
     "output_type": "stream",
     "text": [
      "True\n"
     ]
    }
   ],
   "source": [
    "print(SetModule.checkSubset(set(),setA))"
   ]
  },
  {
   "cell_type": "markdown",
   "metadata": {},
   "source": [
    "null set is subset of every set"
   ]
  },
  {
   "cell_type": "markdown",
   "metadata": {},
   "source": [
    "2. f"
   ]
  },
  {
   "cell_type": "code",
   "execution_count": 31,
   "metadata": {},
   "outputs": [
    {
     "name": "stdout",
     "output_type": "stream",
     "text": [
      "set A is :  {0, 2, 4, 6, 8, 10}\n",
      "length of set A is :  6\n"
     ]
    }
   ],
   "source": [
    "print(\"set A is : \", setA)\n",
    "print(\"length of set A is : \", SetModule.calcLength(setA))"
   ]
  },
  {
   "cell_type": "markdown",
   "metadata": {},
   "source": [
    "handling empty set"
   ]
  },
  {
   "cell_type": "code",
   "execution_count": 34,
   "metadata": {},
   "outputs": [
    {
     "name": "stdout",
     "output_type": "stream",
     "text": [
      "length of empty set is :  0\n"
     ]
    }
   ],
   "source": [
    "print(\"length of empty set is : \",SetModule.calcLength(setEmpty))"
   ]
  },
  {
   "cell_type": "code",
   "execution_count": 35,
   "metadata": {},
   "outputs": [
    {
     "name": "stdout",
     "output_type": "stream",
     "text": [
      "setA is :  {0, 2, 4, 6, 8, 10}\n",
      "set B :  {0, 40, 10, 50, 20, 30}\n",
      "symmetric difference is :  {2, 4, 6, 8, 40, 50, 20, 30}\n"
     ]
    }
   ],
   "source": [
    "print(\"setA is : \", setA)\n",
    "print(\"set B : \", setB)\n",
    "print(\"symmetric difference is : \", SetModule.symmetricDifference(setA, setB))"
   ]
  },
  {
   "cell_type": "markdown",
   "metadata": {},
   "source": [
    "2. g"
   ]
  },
  {
   "cell_type": "code",
   "execution_count": 36,
   "metadata": {},
   "outputs": [
    {
     "name": "stdout",
     "output_type": "stream",
     "text": [
      "set A is :  {0, 2, 4, 6, 8, 10}\n",
      "powerset of set A is :  {frozenset({10, 4}), frozenset({8, 2}), frozenset({4, 6}), frozenset({8, 10, 4, 6}), frozenset({2, 6}), frozenset({0, 8, 2, 10}), frozenset({8, 2, 10, 6}), frozenset({0, 10, 6}), frozenset({0, 2, 4, 6}), frozenset({0, 8, 10}), frozenset({0, 2, 4}), frozenset({10}), frozenset({8, 10, 4}), frozenset({8, 2, 4}), frozenset({2, 4, 6}), frozenset({8, 10, 6}), frozenset({0, 4, 6}), frozenset({0, 6}), frozenset({0, 8, 10, 6}), frozenset({0, 2, 6}), frozenset({0, 2, 4, 6, 10}), frozenset({0, 2}), frozenset({8}), frozenset({0, 4}), frozenset({8, 10}), frozenset({2, 4}), frozenset({8, 2, 10}), frozenset({2, 10, 4, 6}), frozenset({8, 2, 4, 6}), frozenset({0, 2, 4, 6, 8}), frozenset({0, 8, 4, 6}), frozenset({0, 2, 10}), frozenset({0, 8, 2, 4}), frozenset({0, 10}), frozenset({0, 2, 10, 4}), frozenset({0, 2, 4, 6, 8, 10}), frozenset({8, 2, 6}), frozenset({10, 4, 6}), frozenset({2, 4, 6, 8, 10}), frozenset({8, 6}), frozenset({8, 4, 6}), frozenset({0, 2, 6, 8, 10}), frozenset({0, 8, 2, 6}), frozenset({4}), frozenset({0, 8, 4}), frozenset({0, 8}), frozenset({0, 10, 4}), frozenset({2}), frozenset({0, 8, 2}), frozenset({2, 10, 4}), frozenset({0, 2, 4, 8, 10}), frozenset({2, 10}), frozenset({10, 6}), frozenset({2, 10, 6}), frozenset({0, 2, 10, 6}), frozenset({6}), frozenset({0, 8, 6}), frozenset({0, 4, 6, 8, 10}), frozenset({0, 10, 4, 6}), frozenset(), frozenset({0, 8, 10, 4}), frozenset({8, 4}), frozenset({0}), frozenset({8, 2, 10, 4})}\n"
     ]
    }
   ],
   "source": [
    "print(\"set A is : \", setA)\n",
    "print(\"powerset of set A is : \", SetModule.powerSet(setA))"
   ]
  },
  {
   "cell_type": "code",
   "execution_count": 39,
   "metadata": {},
   "outputs": [
    {
     "name": "stdout",
     "output_type": "stream",
     "text": [
      "set is :  {1, 2, 3}\n",
      "the subsets are : \n",
      "{2}\n",
      "{2, 3}\n",
      "{1, 2}\n",
      "{1, 2, 3}\n",
      "{3}\n",
      "{1}\n",
      "set()\n",
      "{1, 3}\n"
     ]
    }
   ],
   "source": [
    "print(\"set is : \", {1,2,3})\n",
    "listOfSubsets = SetModule.getAllSubsets({1,2,3})\n",
    "print(\"the subsets are : \")\n",
    "for i in listOfSubsets:\n",
    "    print(i)"
   ]
  }
 ],
 "metadata": {
  "kernelspec": {
   "display_name": "Python 3",
   "language": "python",
   "name": "python3"
  },
  "language_info": {
   "codemirror_mode": {
    "name": "ipython",
    "version": 3
   },
   "file_extension": ".py",
   "mimetype": "text/x-python",
   "name": "python",
   "nbconvert_exporter": "python",
   "pygments_lexer": "ipython3",
   "version": "3.11.2"
  }
 },
 "nbformat": 4,
 "nbformat_minor": 2
}
