{
 "cells": [
  {
   "cell_type": "code",
   "execution_count": 1,
   "metadata": {},
   "outputs": [],
   "source": [
    "import pandas as pd\n",
    "import usermodule"
   ]
  },
  {
   "cell_type": "code",
   "execution_count": 2,
   "metadata": {},
   "outputs": [],
   "source": [
    "df = pd.read_csv(\"D:/code/pythonChrist/lab1/user-table.csv\")"
   ]
  },
  {
   "cell_type": "code",
   "execution_count": 3,
   "metadata": {},
   "outputs": [
    {
     "data": {
      "text/html": [
       "<div>\n",
       "<style scoped>\n",
       "    .dataframe tbody tr th:only-of-type {\n",
       "        vertical-align: middle;\n",
       "    }\n",
       "\n",
       "    .dataframe tbody tr th {\n",
       "        vertical-align: top;\n",
       "    }\n",
       "\n",
       "    .dataframe thead th {\n",
       "        text-align: right;\n",
       "    }\n",
       "</style>\n",
       "<table border=\"1\" class=\"dataframe\">\n",
       "  <thead>\n",
       "    <tr style=\"text-align: right;\">\n",
       "      <th></th>\n",
       "      <th>name</th>\n",
       "      <th>username</th>\n",
       "      <th>password</th>\n",
       "      <th>email</th>\n",
       "      <th>phone</th>\n",
       "    </tr>\n",
       "  </thead>\n",
       "  <tbody>\n",
       "    <tr>\n",
       "      <th>0</th>\n",
       "      <td>vaibhav</td>\n",
       "      <td>vaibhav2447157</td>\n",
       "      <td>newpassword123</td>\n",
       "      <td>newemail@example.com</td>\n",
       "      <td>1234567890</td>\n",
       "    </tr>\n",
       "  </tbody>\n",
       "</table>\n",
       "</div>"
      ],
      "text/plain": [
       "      name        username        password                 email       phone\n",
       "0  vaibhav  vaibhav2447157  newpassword123  newemail@example.com  1234567890"
      ]
     },
     "execution_count": 3,
     "metadata": {},
     "output_type": "execute_result"
    }
   ],
   "source": [
    "df"
   ]
  },
  {
   "cell_type": "code",
   "execution_count": 4,
   "metadata": {},
   "outputs": [
    {
     "name": "stdout",
     "output_type": "stream",
     "text": [
      "      name        username        password                 email       phone\n",
      "0  vaibhav  vaibhav2447157  newpassword123  newemail@example.com  1234567890\n",
      "1  karthik        karthikd        karthikd  karthikd92@gmail.com  9731463868\n"
     ]
    }
   ],
   "source": [
    "df = usermodule.adduser(\"karthik\", \"karthikd\", \"karthikd\", \"karthikd92@gmail.com\", 9731463868, df)\n",
    "print(df)\n"
   ]
  },
  {
   "cell_type": "code",
   "execution_count": 5,
   "metadata": {},
   "outputs": [],
   "source": [
    "df.to_csv(\"D:/code/pythonChrist/lab1/user-table.csv\", index=False)"
   ]
  },
  {
   "cell_type": "code",
   "execution_count": 6,
   "metadata": {},
   "outputs": [
    {
     "name": "stdout",
     "output_type": "stream",
     "text": [
      "      name        username        password                 email       phone\n",
      "0  vaibhav  vaibhav2447157  newpassword123  newemail@example.com  1234567890\n"
     ]
    }
   ],
   "source": [
    "df = pd.read_csv(\"D:/code/pythonChrist/lab1/user-table.csv\")\n",
    "df = usermodule.deleteUser(\"username\",\"karthikd\",df)\n",
    "print(df)\n",
    "df.to_csv(\"D:/code/pythonChrist/lab1/user-table.csv\", index=False)"
   ]
  },
  {
   "cell_type": "code",
   "execution_count": 7,
   "metadata": {},
   "outputs": [],
   "source": [
    "df = usermodule.adduser(\"karthik\", \"karthikd\", \"karthikd\", \"karthikd92@gmail.com\", 9731463868, df)\n",
    "df.to_csv(\"D:/code/pythonChrist/lab1/user-table.csv\", index=False)"
   ]
  },
  {
   "cell_type": "code",
   "execution_count": 8,
   "metadata": {},
   "outputs": [],
   "source": [
    "df = usermodule.update_user_info(df,  'vaibhav2447157', 'newpassword123', '1234567890', 'newemail@example.com' )"
   ]
  },
  {
   "cell_type": "code",
   "execution_count": 9,
   "metadata": {},
   "outputs": [],
   "source": [
    "df.to_csv(\"D:/code/pythonChrist/lab1/user-table.csv\", index=False)"
   ]
  },
  {
   "cell_type": "code",
   "execution_count": 10,
   "metadata": {},
   "outputs": [],
   "source": [
    "df = pd.read_csv(\"D:/code/pythonChrist/lab1/user-table.csv\")"
   ]
  },
  {
   "cell_type": "code",
   "execution_count": 11,
   "metadata": {},
   "outputs": [
    {
     "data": {
      "text/html": [
       "<div>\n",
       "<style scoped>\n",
       "    .dataframe tbody tr th:only-of-type {\n",
       "        vertical-align: middle;\n",
       "    }\n",
       "\n",
       "    .dataframe tbody tr th {\n",
       "        vertical-align: top;\n",
       "    }\n",
       "\n",
       "    .dataframe thead th {\n",
       "        text-align: right;\n",
       "    }\n",
       "</style>\n",
       "<table border=\"1\" class=\"dataframe\">\n",
       "  <thead>\n",
       "    <tr style=\"text-align: right;\">\n",
       "      <th></th>\n",
       "      <th>name</th>\n",
       "      <th>username</th>\n",
       "      <th>password</th>\n",
       "      <th>email</th>\n",
       "      <th>phone</th>\n",
       "    </tr>\n",
       "  </thead>\n",
       "  <tbody>\n",
       "    <tr>\n",
       "      <th>0</th>\n",
       "      <td>vaibhav</td>\n",
       "      <td>vaibhav2447157</td>\n",
       "      <td>newpassword123</td>\n",
       "      <td>newemail@example.com</td>\n",
       "      <td>1234567890</td>\n",
       "    </tr>\n",
       "    <tr>\n",
       "      <th>1</th>\n",
       "      <td>karthik</td>\n",
       "      <td>karthikd</td>\n",
       "      <td>karthikd</td>\n",
       "      <td>karthikd92@gmail.com</td>\n",
       "      <td>9731463868</td>\n",
       "    </tr>\n",
       "  </tbody>\n",
       "</table>\n",
       "</div>"
      ],
      "text/plain": [
       "      name        username        password                 email       phone\n",
       "0  vaibhav  vaibhav2447157  newpassword123  newemail@example.com  1234567890\n",
       "1  karthik        karthikd        karthikd  karthikd92@gmail.com  9731463868"
      ]
     },
     "execution_count": 11,
     "metadata": {},
     "output_type": "execute_result"
    }
   ],
   "source": [
    "df"
   ]
  },
  {
   "cell_type": "code",
   "execution_count": 12,
   "metadata": {},
   "outputs": [],
   "source": [
    "import menuModule"
   ]
  },
  {
   "cell_type": "code",
   "execution_count": 13,
   "metadata": {},
   "outputs": [
    {
     "data": {
      "text/html": [
       "<div>\n",
       "<style scoped>\n",
       "    .dataframe tbody tr th:only-of-type {\n",
       "        vertical-align: middle;\n",
       "    }\n",
       "\n",
       "    .dataframe tbody tr th {\n",
       "        vertical-align: top;\n",
       "    }\n",
       "\n",
       "    .dataframe thead th {\n",
       "        text-align: right;\n",
       "    }\n",
       "</style>\n",
       "<table border=\"1\" class=\"dataframe\">\n",
       "  <thead>\n",
       "    <tr style=\"text-align: right;\">\n",
       "      <th></th>\n",
       "      <th>menu_code</th>\n",
       "      <th>company_code</th>\n",
       "      <th>item_name</th>\n",
       "      <th>diet</th>\n",
       "      <th>price_rs</th>\n",
       "      <th>quantity_gram</th>\n",
       "    </tr>\n",
       "  </thead>\n",
       "  <tbody>\n",
       "    <tr>\n",
       "      <th>0</th>\n",
       "      <td>CHRIST</td>\n",
       "      <td>VAIB</td>\n",
       "      <td>rajma chawal</td>\n",
       "      <td>vegetarian</td>\n",
       "      <td>266.2</td>\n",
       "      <td>500</td>\n",
       "    </tr>\n",
       "  </tbody>\n",
       "</table>\n",
       "</div>"
      ],
      "text/plain": [
       "  menu_code company_code     item_name        diet  price_rs  quantity_gram\n",
       "0    CHRIST         VAIB  rajma chawal  vegetarian     266.2            500"
      ]
     },
     "execution_count": 13,
     "metadata": {},
     "output_type": "execute_result"
    }
   ],
   "source": [
    "df = pd.read_csv(\"D:/code/pythonChrist/lab1/menu-item.csv\")\n",
    "df"
   ]
  },
  {
   "cell_type": "code",
   "execution_count": 14,
   "metadata": {},
   "outputs": [
    {
     "data": {
      "text/html": [
       "<div>\n",
       "<style scoped>\n",
       "    .dataframe tbody tr th:only-of-type {\n",
       "        vertical-align: middle;\n",
       "    }\n",
       "\n",
       "    .dataframe tbody tr th {\n",
       "        vertical-align: top;\n",
       "    }\n",
       "\n",
       "    .dataframe thead th {\n",
       "        text-align: right;\n",
       "    }\n",
       "</style>\n",
       "<table border=\"1\" class=\"dataframe\">\n",
       "  <thead>\n",
       "    <tr style=\"text-align: right;\">\n",
       "      <th></th>\n",
       "      <th>menu_code</th>\n",
       "      <th>company_code</th>\n",
       "      <th>item_name</th>\n",
       "      <th>diet</th>\n",
       "      <th>price_rs</th>\n",
       "      <th>quantity_gram</th>\n",
       "    </tr>\n",
       "  </thead>\n",
       "  <tbody>\n",
       "    <tr>\n",
       "      <th>0</th>\n",
       "      <td>CHRIST</td>\n",
       "      <td>VAIB</td>\n",
       "      <td>rajma chawal</td>\n",
       "      <td>vegetarian</td>\n",
       "      <td>266.2</td>\n",
       "      <td>500</td>\n",
       "    </tr>\n",
       "    <tr>\n",
       "      <th>1</th>\n",
       "      <td>CHRIST</td>\n",
       "      <td>VAIB</td>\n",
       "      <td>paneer tikka</td>\n",
       "      <td>vegetarian</td>\n",
       "      <td>250.0</td>\n",
       "      <td>300</td>\n",
       "    </tr>\n",
       "  </tbody>\n",
       "</table>\n",
       "</div>"
      ],
      "text/plain": [
       "  menu_code company_code     item_name        diet  price_rs  quantity_gram\n",
       "0    CHRIST         VAIB  rajma chawal  vegetarian     266.2            500\n",
       "1    CHRIST         VAIB  paneer tikka  vegetarian     250.0            300"
      ]
     },
     "execution_count": 14,
     "metadata": {},
     "output_type": "execute_result"
    }
   ],
   "source": [
    "df = menuModule.add_menu_item(df, 'CHRIST', 'VAIB', 'paneer tikka', 'vegetarian', 250, 300)\n",
    "df"
   ]
  },
  {
   "cell_type": "code",
   "execution_count": 15,
   "metadata": {},
   "outputs": [],
   "source": [
    "df.to_csv(\"D:/code/pythonChrist/lab1/menu-item.csv\", index=False)"
   ]
  },
  {
   "cell_type": "code",
   "execution_count": 16,
   "metadata": {},
   "outputs": [
    {
     "data": {
      "text/html": [
       "<div>\n",
       "<style scoped>\n",
       "    .dataframe tbody tr th:only-of-type {\n",
       "        vertical-align: middle;\n",
       "    }\n",
       "\n",
       "    .dataframe tbody tr th {\n",
       "        vertical-align: top;\n",
       "    }\n",
       "\n",
       "    .dataframe thead th {\n",
       "        text-align: right;\n",
       "    }\n",
       "</style>\n",
       "<table border=\"1\" class=\"dataframe\">\n",
       "  <thead>\n",
       "    <tr style=\"text-align: right;\">\n",
       "      <th></th>\n",
       "      <th>menu_code</th>\n",
       "      <th>company_code</th>\n",
       "      <th>item_name</th>\n",
       "      <th>diet</th>\n",
       "      <th>price_rs</th>\n",
       "      <th>quantity_gram</th>\n",
       "    </tr>\n",
       "  </thead>\n",
       "  <tbody>\n",
       "    <tr>\n",
       "      <th>0</th>\n",
       "      <td>CHRIST</td>\n",
       "      <td>VAIB</td>\n",
       "      <td>rajma chawal</td>\n",
       "      <td>vegetarian</td>\n",
       "      <td>266.2</td>\n",
       "      <td>500</td>\n",
       "    </tr>\n",
       "  </tbody>\n",
       "</table>\n",
       "</div>"
      ],
      "text/plain": [
       "  menu_code company_code     item_name        diet  price_rs  quantity_gram\n",
       "0    CHRIST         VAIB  rajma chawal  vegetarian     266.2            500"
      ]
     },
     "execution_count": 16,
     "metadata": {},
     "output_type": "execute_result"
    }
   ],
   "source": [
    "df = menuModule.delete_menu_item(df, 'CHRIST', 'VAIB', 'paneer tikka')\n",
    "df"
   ]
  },
  {
   "cell_type": "code",
   "execution_count": 17,
   "metadata": {},
   "outputs": [],
   "source": [
    "df.to_csv(\"D:/code/pythonChrist/lab1/menu-item.csv\", index=False)"
   ]
  },
  {
   "cell_type": "code",
   "execution_count": 18,
   "metadata": {},
   "outputs": [
    {
     "data": {
      "text/html": [
       "<div>\n",
       "<style scoped>\n",
       "    .dataframe tbody tr th:only-of-type {\n",
       "        vertical-align: middle;\n",
       "    }\n",
       "\n",
       "    .dataframe tbody tr th {\n",
       "        vertical-align: top;\n",
       "    }\n",
       "\n",
       "    .dataframe thead th {\n",
       "        text-align: right;\n",
       "    }\n",
       "</style>\n",
       "<table border=\"1\" class=\"dataframe\">\n",
       "  <thead>\n",
       "    <tr style=\"text-align: right;\">\n",
       "      <th></th>\n",
       "      <th>menu_code</th>\n",
       "      <th>company_code</th>\n",
       "      <th>item_name</th>\n",
       "      <th>diet</th>\n",
       "      <th>price_rs</th>\n",
       "      <th>quantity_gram</th>\n",
       "    </tr>\n",
       "  </thead>\n",
       "  <tbody>\n",
       "    <tr>\n",
       "      <th>0</th>\n",
       "      <td>CHRIST</td>\n",
       "      <td>VAIB</td>\n",
       "      <td>rajma chawal</td>\n",
       "      <td>vegetarian</td>\n",
       "      <td>292.82</td>\n",
       "      <td>500</td>\n",
       "    </tr>\n",
       "  </tbody>\n",
       "</table>\n",
       "</div>"
      ],
      "text/plain": [
       "  menu_code company_code     item_name        diet  price_rs  quantity_gram\n",
       "0    CHRIST         VAIB  rajma chawal  vegetarian    292.82            500"
      ]
     },
     "execution_count": 18,
     "metadata": {},
     "output_type": "execute_result"
    }
   ],
   "source": [
    "df = menuModule.increase_price(df, 'CHRIST', 'VAIB', 10)\n",
    "df"
   ]
  },
  {
   "cell_type": "code",
   "execution_count": 19,
   "metadata": {},
   "outputs": [],
   "source": [
    "df.to_csv(\"D:/code/pythonChrist/lab1/menu-item.csv\", index=False)"
   ]
  },
  {
   "cell_type": "code",
   "execution_count": 20,
   "metadata": {},
   "outputs": [],
   "source": [
    "df = menuModule.add_menu_item(df, 'CHRIST', 'VAIB', 'paneer tikka', 'vegetarian', 250, 300)\n",
    "df.to_csv(\"D:/code/pythonChrist/lab1/menu-item.csv\", index=False)"
   ]
  },
  {
   "cell_type": "code",
   "execution_count": 21,
   "metadata": {},
   "outputs": [
    {
     "name": "stdout",
     "output_type": "stream",
     "text": [
      "  menu_code company_code     item_name        diet  price_rs  quantity_gram\n",
      "0    CHRIST         VAIB  rajma chawal  vegetarian    292.82            500\n",
      "1    CHRIST         VAIB  paneer tikka  vegetarian    250.00            300\n"
     ]
    }
   ],
   "source": [
    "menu_items = menuModule.get_menu_items(df, 'CHRIST', 'VAIB')\n",
    "print(menu_items)"
   ]
  },
  {
   "cell_type": "code",
   "execution_count": 22,
   "metadata": {},
   "outputs": [],
   "source": [
    "df = menuModule.update_diet_type(df, 'CHRIST', 'VAIB', 'paneer tikka', 'non-vegetarian')"
   ]
  },
  {
   "cell_type": "code",
   "execution_count": 23,
   "metadata": {},
   "outputs": [],
   "source": [
    "df.to_csv(\"D:/code/pythonChrist/lab1/menu-item.csv\", index=False)"
   ]
  },
  {
   "cell_type": "code",
   "execution_count": 24,
   "metadata": {},
   "outputs": [],
   "source": [
    "import employeeModule"
   ]
  },
  {
   "cell_type": "code",
   "execution_count": 25,
   "metadata": {},
   "outputs": [
    {
     "data": {
      "text/html": [
       "<div>\n",
       "<style scoped>\n",
       "    .dataframe tbody tr th:only-of-type {\n",
       "        vertical-align: middle;\n",
       "    }\n",
       "\n",
       "    .dataframe tbody tr th {\n",
       "        vertical-align: top;\n",
       "    }\n",
       "\n",
       "    .dataframe thead th {\n",
       "        text-align: right;\n",
       "    }\n",
       "</style>\n",
       "<table border=\"1\" class=\"dataframe\">\n",
       "  <thead>\n",
       "    <tr style=\"text-align: right;\">\n",
       "      <th></th>\n",
       "      <th>company_code</th>\n",
       "      <th>username</th>\n",
       "      <th>role</th>\n",
       "      <th>adhaar_no</th>\n",
       "      <th>pan_no</th>\n",
       "    </tr>\n",
       "  </thead>\n",
       "  <tbody>\n",
       "    <tr>\n",
       "      <th>0</th>\n",
       "      <td>VAIB</td>\n",
       "      <td>vaibhav2447157</td>\n",
       "      <td>clerk</td>\n",
       "      <td>24325462</td>\n",
       "      <td>CROPT2325</td>\n",
       "    </tr>\n",
       "  </tbody>\n",
       "</table>\n",
       "</div>"
      ],
      "text/plain": [
       "  company_code        username   role  adhaar_no     pan_no\n",
       "0         VAIB  vaibhav2447157  clerk   24325462  CROPT2325"
      ]
     },
     "execution_count": 25,
     "metadata": {},
     "output_type": "execute_result"
    }
   ],
   "source": [
    "employee_df = pd.read_csv(\"D:/code/pythonChrist/lab1/employee-table.csv\")\n",
    "employee_df"
   ]
  },
  {
   "cell_type": "code",
   "execution_count": 26,
   "metadata": {},
   "outputs": [
    {
     "data": {
      "text/html": [
       "<div>\n",
       "<style scoped>\n",
       "    .dataframe tbody tr th:only-of-type {\n",
       "        vertical-align: middle;\n",
       "    }\n",
       "\n",
       "    .dataframe tbody tr th {\n",
       "        vertical-align: top;\n",
       "    }\n",
       "\n",
       "    .dataframe thead th {\n",
       "        text-align: right;\n",
       "    }\n",
       "</style>\n",
       "<table border=\"1\" class=\"dataframe\">\n",
       "  <thead>\n",
       "    <tr style=\"text-align: right;\">\n",
       "      <th></th>\n",
       "      <th>company_code</th>\n",
       "      <th>username</th>\n",
       "      <th>role</th>\n",
       "      <th>adhaar_no</th>\n",
       "      <th>pan_no</th>\n",
       "    </tr>\n",
       "  </thead>\n",
       "  <tbody>\n",
       "    <tr>\n",
       "      <th>0</th>\n",
       "      <td>VAIB</td>\n",
       "      <td>vaibhav2447157</td>\n",
       "      <td>clerk</td>\n",
       "      <td>24325462</td>\n",
       "      <td>CROPT2325</td>\n",
       "    </tr>\n",
       "    <tr>\n",
       "      <th>1</th>\n",
       "      <td>VAIB</td>\n",
       "      <td>Yaash</td>\n",
       "      <td>manager</td>\n",
       "      <td>12345678</td>\n",
       "      <td>ABCDE1234F</td>\n",
       "    </tr>\n",
       "  </tbody>\n",
       "</table>\n",
       "</div>"
      ],
      "text/plain": [
       "  company_code        username     role adhaar_no      pan_no\n",
       "0         VAIB  vaibhav2447157    clerk  24325462   CROPT2325\n",
       "1         VAIB           Yaash  manager  12345678  ABCDE1234F"
      ]
     },
     "execution_count": 26,
     "metadata": {},
     "output_type": "execute_result"
    }
   ],
   "source": [
    "employee_df = employeeModule.add_employee(employee_df, 'VAIB', 'Yaash', 'manager', '12345678', 'ABCDE1234F')\n",
    "employee_df"
   ]
  },
  {
   "cell_type": "code",
   "execution_count": 27,
   "metadata": {},
   "outputs": [],
   "source": [
    "employee_df = employeeModule.delete_employee(employee_df, 'VAIB', 'Yaash')"
   ]
  },
  {
   "cell_type": "code",
   "execution_count": 28,
   "metadata": {},
   "outputs": [
    {
     "data": {
      "text/html": [
       "<div>\n",
       "<style scoped>\n",
       "    .dataframe tbody tr th:only-of-type {\n",
       "        vertical-align: middle;\n",
       "    }\n",
       "\n",
       "    .dataframe tbody tr th {\n",
       "        vertical-align: top;\n",
       "    }\n",
       "\n",
       "    .dataframe thead th {\n",
       "        text-align: right;\n",
       "    }\n",
       "</style>\n",
       "<table border=\"1\" class=\"dataframe\">\n",
       "  <thead>\n",
       "    <tr style=\"text-align: right;\">\n",
       "      <th></th>\n",
       "      <th>company_code</th>\n",
       "      <th>username</th>\n",
       "      <th>role</th>\n",
       "      <th>adhaar_no</th>\n",
       "      <th>pan_no</th>\n",
       "    </tr>\n",
       "  </thead>\n",
       "  <tbody>\n",
       "    <tr>\n",
       "      <th>0</th>\n",
       "      <td>VAIB</td>\n",
       "      <td>vaibhav2447157</td>\n",
       "      <td>clerk</td>\n",
       "      <td>24325462</td>\n",
       "      <td>CROPT2325</td>\n",
       "    </tr>\n",
       "  </tbody>\n",
       "</table>\n",
       "</div>"
      ],
      "text/plain": [
       "  company_code        username   role adhaar_no     pan_no\n",
       "0         VAIB  vaibhav2447157  clerk  24325462  CROPT2325"
      ]
     },
     "execution_count": 28,
     "metadata": {},
     "output_type": "execute_result"
    }
   ],
   "source": [
    "employee_df"
   ]
  },
  {
   "cell_type": "code",
   "execution_count": 29,
   "metadata": {},
   "outputs": [
    {
     "data": {
      "text/html": [
       "<div>\n",
       "<style scoped>\n",
       "    .dataframe tbody tr th:only-of-type {\n",
       "        vertical-align: middle;\n",
       "    }\n",
       "\n",
       "    .dataframe tbody tr th {\n",
       "        vertical-align: top;\n",
       "    }\n",
       "\n",
       "    .dataframe thead th {\n",
       "        text-align: right;\n",
       "    }\n",
       "</style>\n",
       "<table border=\"1\" class=\"dataframe\">\n",
       "  <thead>\n",
       "    <tr style=\"text-align: right;\">\n",
       "      <th></th>\n",
       "      <th>company_code</th>\n",
       "      <th>username</th>\n",
       "      <th>role</th>\n",
       "      <th>adhaar_no</th>\n",
       "      <th>pan_no</th>\n",
       "    </tr>\n",
       "  </thead>\n",
       "  <tbody>\n",
       "    <tr>\n",
       "      <th>0</th>\n",
       "      <td>VAIB</td>\n",
       "      <td>vaibhav2447157</td>\n",
       "      <td>clerk</td>\n",
       "      <td>24325462</td>\n",
       "      <td>CROPT2325</td>\n",
       "    </tr>\n",
       "    <tr>\n",
       "      <th>1</th>\n",
       "      <td>VAIB</td>\n",
       "      <td>Yaash</td>\n",
       "      <td>manager</td>\n",
       "      <td>12345678</td>\n",
       "      <td>ABCDE1234F</td>\n",
       "    </tr>\n",
       "  </tbody>\n",
       "</table>\n",
       "</div>"
      ],
      "text/plain": [
       "  company_code        username     role adhaar_no      pan_no\n",
       "0         VAIB  vaibhav2447157    clerk  24325462   CROPT2325\n",
       "1         VAIB           Yaash  manager  12345678  ABCDE1234F"
      ]
     },
     "execution_count": 29,
     "metadata": {},
     "output_type": "execute_result"
    }
   ],
   "source": [
    "employee_df = employeeModule.add_employee(employee_df, 'VAIB', 'Yaash', 'manager', '12345678', 'ABCDE1234F')\n",
    "employee_df"
   ]
  },
  {
   "cell_type": "code",
   "execution_count": 30,
   "metadata": {},
   "outputs": [],
   "source": [
    "employee_df = employeeModule.update_employee_role(employee_df, 'VAIB', 'Yaash', 'senior manager')"
   ]
  },
  {
   "cell_type": "code",
   "execution_count": 31,
   "metadata": {},
   "outputs": [
    {
     "data": {
      "text/html": [
       "<div>\n",
       "<style scoped>\n",
       "    .dataframe tbody tr th:only-of-type {\n",
       "        vertical-align: middle;\n",
       "    }\n",
       "\n",
       "    .dataframe tbody tr th {\n",
       "        vertical-align: top;\n",
       "    }\n",
       "\n",
       "    .dataframe thead th {\n",
       "        text-align: right;\n",
       "    }\n",
       "</style>\n",
       "<table border=\"1\" class=\"dataframe\">\n",
       "  <thead>\n",
       "    <tr style=\"text-align: right;\">\n",
       "      <th></th>\n",
       "      <th>company_code</th>\n",
       "      <th>username</th>\n",
       "      <th>role</th>\n",
       "      <th>adhaar_no</th>\n",
       "      <th>pan_no</th>\n",
       "    </tr>\n",
       "  </thead>\n",
       "  <tbody>\n",
       "    <tr>\n",
       "      <th>0</th>\n",
       "      <td>VAIB</td>\n",
       "      <td>vaibhav2447157</td>\n",
       "      <td>clerk</td>\n",
       "      <td>24325462</td>\n",
       "      <td>CROPT2325</td>\n",
       "    </tr>\n",
       "    <tr>\n",
       "      <th>1</th>\n",
       "      <td>VAIB</td>\n",
       "      <td>Yaash</td>\n",
       "      <td>senior manager</td>\n",
       "      <td>12345678</td>\n",
       "      <td>ABCDE1234F</td>\n",
       "    </tr>\n",
       "  </tbody>\n",
       "</table>\n",
       "</div>"
      ],
      "text/plain": [
       "  company_code        username            role adhaar_no      pan_no\n",
       "0         VAIB  vaibhav2447157           clerk  24325462   CROPT2325\n",
       "1         VAIB           Yaash  senior manager  12345678  ABCDE1234F"
      ]
     },
     "execution_count": 31,
     "metadata": {},
     "output_type": "execute_result"
    }
   ],
   "source": [
    "employee_df"
   ]
  },
  {
   "cell_type": "code",
   "execution_count": 32,
   "metadata": {},
   "outputs": [],
   "source": [
    "employees = employeeModule.get_employees(employee_df, 'VAIB')"
   ]
  },
  {
   "cell_type": "code",
   "execution_count": 33,
   "metadata": {},
   "outputs": [
    {
     "data": {
      "text/html": [
       "<div>\n",
       "<style scoped>\n",
       "    .dataframe tbody tr th:only-of-type {\n",
       "        vertical-align: middle;\n",
       "    }\n",
       "\n",
       "    .dataframe tbody tr th {\n",
       "        vertical-align: top;\n",
       "    }\n",
       "\n",
       "    .dataframe thead th {\n",
       "        text-align: right;\n",
       "    }\n",
       "</style>\n",
       "<table border=\"1\" class=\"dataframe\">\n",
       "  <thead>\n",
       "    <tr style=\"text-align: right;\">\n",
       "      <th></th>\n",
       "      <th>company_code</th>\n",
       "      <th>username</th>\n",
       "      <th>role</th>\n",
       "      <th>adhaar_no</th>\n",
       "      <th>pan_no</th>\n",
       "    </tr>\n",
       "  </thead>\n",
       "  <tbody>\n",
       "    <tr>\n",
       "      <th>0</th>\n",
       "      <td>VAIB</td>\n",
       "      <td>vaibhav2447157</td>\n",
       "      <td>clerk</td>\n",
       "      <td>24325462</td>\n",
       "      <td>CROPT2325</td>\n",
       "    </tr>\n",
       "    <tr>\n",
       "      <th>1</th>\n",
       "      <td>VAIB</td>\n",
       "      <td>Yaash</td>\n",
       "      <td>senior manager</td>\n",
       "      <td>12345678</td>\n",
       "      <td>ABCDE1234F</td>\n",
       "    </tr>\n",
       "  </tbody>\n",
       "</table>\n",
       "</div>"
      ],
      "text/plain": [
       "  company_code        username            role adhaar_no      pan_no\n",
       "0         VAIB  vaibhav2447157           clerk  24325462   CROPT2325\n",
       "1         VAIB           Yaash  senior manager  12345678  ABCDE1234F"
      ]
     },
     "execution_count": 33,
     "metadata": {},
     "output_type": "execute_result"
    }
   ],
   "source": [
    "employees"
   ]
  },
  {
   "cell_type": "code",
   "execution_count": 34,
   "metadata": {},
   "outputs": [],
   "source": [
    "employee_df.to_csv(\"D:/code/pythonChrist/lab1/employee-table.csv\", index=False)"
   ]
  }
 ],
 "metadata": {
  "kernelspec": {
   "display_name": "Python 3",
   "language": "python",
   "name": "python3"
  },
  "language_info": {
   "codemirror_mode": {
    "name": "ipython",
    "version": 3
   },
   "file_extension": ".py",
   "mimetype": "text/x-python",
   "name": "python",
   "nbconvert_exporter": "python",
   "pygments_lexer": "ipython3",
   "version": "3.11.2"
  }
 },
 "nbformat": 4,
 "nbformat_minor": 2
}
